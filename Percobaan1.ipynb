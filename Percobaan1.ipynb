{
 "cells": [
  {
   "cell_type": "code",
   "execution_count": 1,
   "id": "4890bfcf",
   "metadata": {},
   "outputs": [
    {
     "name": "stdout",
     "output_type": "stream",
     "text": [
      "Saya Menggunakan Python\n"
     ]
    }
   ],
   "source": [
    "print(\"Saya Menggunakan Python\")"
   ]
  },
  {
   "cell_type": "code",
   "execution_count": 2,
   "id": "3feeeab2",
   "metadata": {},
   "outputs": [
    {
     "name": "stdout",
     "output_type": "stream",
     "text": [
      "Saya Menggunakan \n",
      "Python\n"
     ]
    }
   ],
   "source": [
    "print(\"Saya Menggunakan \\nPython\")"
   ]
  },
  {
   "cell_type": "code",
   "execution_count": 3,
   "id": "e2c87204",
   "metadata": {},
   "outputs": [
    {
     "name": "stdout",
     "output_type": "stream",
     "text": [
      "Saya Iseng\n"
     ]
    }
   ],
   "source": [
    "print('Saya Iseng'\"\")"
   ]
  },
  {
   "cell_type": "code",
   "execution_count": 4,
   "id": "cd61f0d0",
   "metadata": {},
   "outputs": [
    {
     "ename": "SyntaxError",
     "evalue": "EOL while scanning string literal (479199844.py, line 4)",
     "output_type": "error",
     "traceback": [
      "\u001b[1;36m  File \u001b[1;32m\"C:\\Users\\asusp\\AppData\\Local\\Temp\\ipykernel_7500\\479199844.py\"\u001b[1;36m, line \u001b[1;32m4\u001b[0m\n\u001b[1;33m    print(\"Saya Iseng Lagi')\u001b[0m\n\u001b[1;37m                            ^\u001b[0m\n\u001b[1;31mSyntaxError\u001b[0m\u001b[1;31m:\u001b[0m EOL while scanning string literal\n"
     ]
    }
   ],
   "source": [
    "#%%%%%%%%%%%%%%%%%%%%%%%%%%%%%%%%%%%%%%%%%%%%%%%%\n",
    "#disini hasilnya eror karena tanda petiknya beda\n",
    "#%%%%%%%%%%%%%%%%%%%%%%%%%%%%%%%%%%%%%%%%%%%%%%%%\n",
    "print(\"Saya Iseng Lagi')"
   ]
  },
  {
   "cell_type": "code",
   "execution_count": 5,
   "id": "8bbf51e0",
   "metadata": {},
   "outputs": [
    {
     "name": "stdout",
     "output_type": "stream",
     "text": [
      "Saya Menggunakan \n",
      "Python\n"
     ]
    }
   ],
   "source": [
    "print(\"Saya Menggunakan \\nPython\")"
   ]
  },
  {
   "cell_type": "code",
   "execution_count": 6,
   "id": "5463cbba",
   "metadata": {},
   "outputs": [
    {
     "name": "stdout",
     "output_type": "stream",
     "text": [
      "39\n",
      "0\n",
      "0\n"
     ]
    }
   ],
   "source": [
    "riandika_01 = 39\n",
    "ukt_riandika_01 = 0\n",
    "print(riandika_01)\n",
    "print(ukt_riandika_01)\n",
    "print(riandika_01*ukt_riandika_01)"
   ]
  },
  {
   "cell_type": "code",
   "execution_count": 7,
   "id": "322ba45a",
   "metadata": {},
   "outputs": [
    {
     "data": {
      "text/plain": [
       "39"
      ]
     },
     "execution_count": 7,
     "metadata": {},
     "output_type": "execute_result"
    }
   ],
   "source": [
    "riandika_01"
   ]
  },
  {
   "cell_type": "code",
   "execution_count": 8,
   "id": "b93915fd",
   "metadata": {},
   "outputs": [
    {
     "ename": "NameError",
     "evalue": "name 'riandika' is not defined",
     "output_type": "error",
     "traceback": [
      "\u001b[1;31m---------------------------------------------------------------------------\u001b[0m",
      "\u001b[1;31mNameError\u001b[0m                                 Traceback (most recent call last)",
      "\u001b[1;32m~\\AppData\\Local\\Temp\\ipykernel_7500\\3679321274.py\u001b[0m in \u001b[0;36m<module>\u001b[1;34m\u001b[0m\n\u001b[1;32m----> 1\u001b[1;33m \u001b[0mriandika\u001b[0m\u001b[1;33m\u001b[0m\u001b[1;33m\u001b[0m\u001b[0m\n\u001b[0m",
      "\u001b[1;31mNameError\u001b[0m: name 'riandika' is not defined"
     ]
    }
   ],
   "source": [
    "riandika"
   ]
  },
  {
   "cell_type": "code",
   "execution_count": 9,
   "id": "e65d8c1b",
   "metadata": {},
   "outputs": [
    {
     "ename": "NameError",
     "evalue": "name 'ukt_riandika' is not defined",
     "output_type": "error",
     "traceback": [
      "\u001b[1;31m---------------------------------------------------------------------------\u001b[0m",
      "\u001b[1;31mNameError\u001b[0m                                 Traceback (most recent call last)",
      "\u001b[1;32m~\\AppData\\Local\\Temp\\ipykernel_7500\\3090059396.py\u001b[0m in \u001b[0;36m<module>\u001b[1;34m\u001b[0m\n\u001b[1;32m----> 1\u001b[1;33m \u001b[0mukt_riandika\u001b[0m\u001b[1;33m\u001b[0m\u001b[1;33m\u001b[0m\u001b[0m\n\u001b[0m",
      "\u001b[1;31mNameError\u001b[0m: name 'ukt_riandika' is not defined"
     ]
    }
   ],
   "source": [
    "ukt_riandika"
   ]
  },
  {
   "cell_type": "code",
   "execution_count": 11,
   "id": "207ebff2",
   "metadata": {},
   "outputs": [
    {
     "name": "stdout",
     "output_type": "stream",
     "text": [
      "Riandika Fathur Rochim\n"
     ]
    }
   ],
   "source": [
    "Nama_depan = 'Riandika'\n",
    "Nama_tengah = 'Fathur'\n",
    "Nama_belakang = 'Rochim'\n",
    "print(Nama_depan +' '+ Nama_tengah+' '+Nama_belakang)"
   ]
  },
  {
   "cell_type": "code",
   "execution_count": 13,
   "id": "ee1c3d46",
   "metadata": {},
   "outputs": [
    {
     "data": {
      "text/plain": [
       "'Fathur'"
      ]
     },
     "execution_count": 13,
     "metadata": {},
     "output_type": "execute_result"
    }
   ],
   "source": [
    "Nama_tengah"
   ]
  },
  {
   "cell_type": "code",
   "execution_count": null,
   "id": "de260c2b",
   "metadata": {},
   "outputs": [],
   "source": [
    "nama = input(\"Input Nama Anda:\")\n",
    "print(\"Halo\"+' '+ nama)"
   ]
  },
  {
   "cell_type": "markdown",
   "id": "7350a49d",
   "metadata": {},
   "source": [
    "dfdfgdgf"
   ]
  },
  {
   "cell_type": "code",
   "execution_count": 1,
   "id": "b485462b",
   "metadata": {},
   "outputs": [
    {
     "name": "stdout",
     "output_type": "stream",
     "text": [
      "Silahkan Input Nama Anda:Riandika\n",
      "Hallo Riandika\n"
     ]
    }
   ],
   "source": [
    "nama = input(\"Silahkan Input Nama Anda:\")\n",
    "print(\"Hallo\"+' '+nama)"
   ]
  },
  {
   "cell_type": "code",
   "execution_count": 3,
   "id": "42567bef",
   "metadata": {},
   "outputs": [
    {
     "name": "stdout",
     "output_type": "stream",
     "text": [
      "Riandika\n"
     ]
    }
   ],
   "source": [
    "print(nama)"
   ]
  },
  {
   "cell_type": "code",
   "execution_count": 2,
   "id": "a2bcd409",
   "metadata": {},
   "outputs": [],
   "source": [
    "from turtle import *\n",
    "import time\n",
    "color('lime')\n",
    "begin_fill()\n",
    "pensize(10)\n",
    "left(50)\n",
    "forward(133)\n",
    "circle(50, 200)\n",
    "right(140)\n",
    "circle(50, 200)\n",
    "forward(133)\n",
    "end_fill()"
   ]
  },
  {
   "cell_type": "code",
   "execution_count": 7,
   "id": "8a3ddf32",
   "metadata": {},
   "outputs": [
    {
     "name": "stdout",
     "output_type": "stream",
     "text": [
      "Uang di dompet saya adalah 10\n",
      "Uang di tabungan saya adalah 20\n"
     ]
    },
    {
     "ename": "TypeError",
     "evalue": "'str' object is not callable",
     "output_type": "error",
     "traceback": [
      "\u001b[1;31m---------------------------------------------------------------------------\u001b[0m",
      "\u001b[1;31mTypeError\u001b[0m                                 Traceback (most recent call last)",
      "\u001b[1;32m~\\AppData\\Local\\Temp\\ipykernel_20708\\1358834318.py\u001b[0m in \u001b[0;36m<module>\u001b[1;34m\u001b[0m\n\u001b[0;32m      2\u001b[0m \u001b[0mfathur\u001b[0m \u001b[1;33m=\u001b[0m \u001b[0minput\u001b[0m\u001b[1;33m(\u001b[0m\u001b[1;34m\"Uang di tabungan saya adalah \"\u001b[0m\u001b[1;33m)\u001b[0m\u001b[1;33m\u001b[0m\u001b[1;33m\u001b[0m\u001b[0m\n\u001b[0;32m      3\u001b[0m \u001b[0mrochim\u001b[0m \u001b[1;33m=\u001b[0m \u001b[0mint\u001b[0m\u001b[1;33m(\u001b[0m\u001b[0mriandika\u001b[0m\u001b[1;33m)\u001b[0m \u001b[1;33m+\u001b[0m \u001b[0mint\u001b[0m\u001b[1;33m(\u001b[0m\u001b[0mfathur\u001b[0m\u001b[1;33m)\u001b[0m\u001b[1;33m\u001b[0m\u001b[1;33m\u001b[0m\u001b[0m\n\u001b[1;32m----> 4\u001b[1;33m \u001b[0mprint\u001b[0m\u001b[1;33m(\u001b[0m\u001b[1;34m\"Total uang saya adalah\"\u001b[0m \u001b[1;33m+\u001b[0m \u001b[0mstr\u001b[0m\u001b[1;33m(\u001b[0m\u001b[0mrochim\u001b[0m\u001b[1;33m)\u001b[0m\u001b[1;33m)\u001b[0m\u001b[1;33m\u001b[0m\u001b[1;33m\u001b[0m\u001b[0m\n\u001b[0m",
      "\u001b[1;31mTypeError\u001b[0m: 'str' object is not callable"
     ]
    }
   ],
   "source": [
    "riandika = input(\"Uang di dompet saya adalah \")\n",
    "fathur = input(\"Uang di tabungan saya adalah \")\n",
    "rochim = int(riandika) + int(fathur)\n",
    "print(\"Total uang saya adalah\" + str(rochim))"
   ]
  },
  {
   "cell_type": "code",
   "execution_count": 8,
   "id": "0e2e0fc8",
   "metadata": {},
   "outputs": [
    {
     "data": {
      "text/plain": [
       "str"
      ]
     },
     "execution_count": 8,
     "metadata": {},
     "output_type": "execute_result"
    }
   ],
   "source": [
    "type(riandika)"
   ]
  },
  {
   "cell_type": "code",
   "execution_count": 9,
   "id": "3a34268a",
   "metadata": {},
   "outputs": [
    {
     "data": {
      "text/plain": [
       "str"
      ]
     },
     "execution_count": 9,
     "metadata": {},
     "output_type": "execute_result"
    }
   ],
   "source": [
    "type(fathur)"
   ]
  },
  {
   "cell_type": "code",
   "execution_count": 11,
   "id": "aa2fe03d",
   "metadata": {},
   "outputs": [
    {
     "data": {
      "text/plain": [
       "int"
      ]
     },
     "execution_count": 11,
     "metadata": {},
     "output_type": "execute_result"
    }
   ],
   "source": [
    "type(rochim)"
   ]
  },
  {
   "cell_type": "code",
   "execution_count": 2,
   "id": "b73e2be9",
   "metadata": {},
   "outputs": [
    {
     "name": "stdout",
     "output_type": "stream",
     "text": [
      "Uang di dompet saya adalah 10\n",
      "Uang di tabungan saya adalah 60\n",
      "Total uang saya adalah 70\n"
     ]
    }
   ],
   "source": [
    "dompet = input(\"Uang di dompet saya adalah \")\n",
    "tabungan = input(\"Uang di tabungan saya adalah \")\n",
    "total = int(dompet) + int(tabungan)\n",
    "print(\"Total uang saya adalah \" + str(total))"
   ]
  },
  {
   "cell_type": "code",
   "execution_count": 1,
   "id": "976cafd4",
   "metadata": {},
   "outputs": [
    {
     "name": "stdout",
     "output_type": "stream",
     "text": [
      "Robert Downey Jr Adalah Seorang Aktor di Marvel Studios.\n"
     ]
    }
   ],
   "source": [
    "nama = \"Robert Downey Jr\"\n",
    "pekerjaan = \"Aktor\"\n",
    "institusi = \"Marvel Studios\"\n",
    "print(nama + ' Adalah Seorang' +' '+ pekerjaan +' '+ 'di'+' ' + institusi + '.')"
   ]
  },
  {
   "cell_type": "code",
   "execution_count": null,
   "id": "ad711ba1",
   "metadata": {},
   "outputs": [],
   "source": []
  }
 ],
 "metadata": {
  "kernelspec": {
   "display_name": "Python 3 (ipykernel)",
   "language": "python",
   "name": "python3"
  },
  "language_info": {
   "codemirror_mode": {
    "name": "ipython",
    "version": 3
   },
   "file_extension": ".py",
   "mimetype": "text/x-python",
   "name": "python",
   "nbconvert_exporter": "python",
   "pygments_lexer": "ipython3",
   "version": "3.9.13"
  }
 },
 "nbformat": 4,
 "nbformat_minor": 5
}
