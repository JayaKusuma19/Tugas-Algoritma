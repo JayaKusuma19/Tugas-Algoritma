{
 "cells": [
  {
   "cell_type": "markdown",
   "id": "b10e217a",
   "metadata": {},
   "source": [
    "# 5.16 List Dua Dimensi"
   ]
  },
  {
   "cell_type": "code",
   "execution_count": 1,
   "id": "7a7e0ae2",
   "metadata": {},
   "outputs": [
    {
     "name": "stdout",
     "output_type": "stream",
     "text": [
      "[[1, 2, 3, 4], [5, 6, 7, 8], [9, 10, 11, 12], [13, 14, 15, 16]]\n"
     ]
    }
   ],
   "source": [
    "#Berikut merupakan contoh variabel yang memuat list dua dimensi.\n",
    "matrik_01 = [\n",
    "    [1,2,3,4],\n",
    "    [5,6,7,8],\n",
    "    [9,10,11,12],\n",
    "    [13,14,15,16]\n",
    "]\n",
    "#List dua dimensi disini akan membentuk sebuah matriks.\n",
    "#Walaupun terlihat seperti sebuah list, namun ini dianggap sistem sebagai sebuah matriks.\n",
    "#Dibawah ini adalah perintah untuk mencetak list dua dimensi tersebut:\n",
    "print(matrik_01)"
   ]
  },
  {
   "cell_type": "code",
   "execution_count": 2,
   "id": "ef263ff1",
   "metadata": {},
   "outputs": [
    {
     "data": {
      "text/plain": [
       "[5, 6, 7, 8]"
      ]
     },
     "execution_count": 2,
     "metadata": {},
     "output_type": "execute_result"
    }
   ],
   "source": [
    "#Untuk menampilkan baris yang kita inginkan, kita harus tau bahwa \n",
    "#di dalam python urutan angka dimulai dari 0,1,2 dan seterusnya.\n",
    "#Jadi jika ingin memanggil baris kedua maka inputannya 1.\n",
    "#Dibawah ini adalah perintah untuk memanggil baris kedua\n",
    "matrik_01[1]"
   ]
  },
  {
   "cell_type": "code",
   "execution_count": 3,
   "id": "2d699064",
   "metadata": {},
   "outputs": [
    {
     "data": {
      "text/plain": [
       "7"
      ]
     },
     "execution_count": 3,
     "metadata": {},
     "output_type": "execute_result"
    }
   ],
   "source": [
    "#Begitu pula untuk memanggil suatu elemen dalam matriks.\n",
    "#Perintahnya dimulai dari baris terlebih dahulu kemudian dilanjutkan dengan kolomnya.\n",
    "#Misal kita ingin mengambil elemen dari baris ke 2 dan kolom ke 3,\n",
    "#maka hal yang kita input adalah baris ke 1 dan kolom ke 2.\n",
    "#Intinya urutan bilangan dalam python dimulai dari 0,1,2 dan seterusnya.\n",
    "#Berikut adalah contoh perintahnya\n",
    "matrik_01[1][2]"
   ]
  },
  {
   "cell_type": "code",
   "execution_count": 4,
   "id": "28579263",
   "metadata": {},
   "outputs": [
    {
     "name": "stdout",
     "output_type": "stream",
     "text": [
      "[1, 2, 3, 4]\n",
      "1\n",
      "2\n",
      "3\n",
      "4\n",
      "[5, 6, 7, 8]\n",
      "5\n",
      "6\n",
      "7\n",
      "8\n",
      "[9, 10, 11, 12]\n",
      "9\n",
      "10\n",
      "11\n",
      "12\n",
      "[13, 14, 15, 16]\n",
      "13\n",
      "14\n",
      "15\n",
      "16\n"
     ]
    }
   ],
   "source": [
    "#Berikut adalah perintah untuk memanggil anggota dari list dua dimensi tersebut\n",
    "for baris in matrik_01 :\n",
    "    print(baris)\n",
    "#Diatas ini adalah cara untuk mencetak baris didalam matriks\n",
    "    for kolom in baris:\n",
    "        print(kolom)\n",
    "#Setelah baris tersebut dicetak, akan masuk ke dalam perintah ini dan akan mencetak\n",
    "#list di dalam baris pertama yang dipanggil.\n",
    "#Perintah ini akan terus berulang sampai tidak ada lagi elemen di dalam variabel list \n",
    "#dua dimensi tersebut.\n",
    "\n",
    "#**************************\n",
    "#Berikut adalah keluarannya\n",
    "#**************************"
   ]
  },
  {
   "cell_type": "code",
   "execution_count": 5,
   "id": "d932ad1b",
   "metadata": {},
   "outputs": [
    {
     "data": {
      "text/plain": [
       "[[1, 2, 3, 4], [5, 6, 7, 8], [9, 10, 11, 12], [13, 14, 15, 16]]"
      ]
     },
     "execution_count": 5,
     "metadata": {},
     "output_type": "execute_result"
    }
   ],
   "source": [
    "#untuk memanggil list dua dimensi tersebut kembali, tinggal mengetik nama variabelnya saja\n",
    "matrik_01"
   ]
  },
  {
   "cell_type": "markdown",
   "id": "0962b6aa",
   "metadata": {},
   "source": [
    "# 5.17 Tuples"
   ]
  },
  {
   "cell_type": "code",
   "execution_count": 6,
   "id": "02d1282c",
   "metadata": {},
   "outputs": [],
   "source": [
    "#Tuples merupakan inisiasi variabel yang mirip dengan list.\n",
    "#Namun bedanya tuples ini tidak dapat diganti atau dirubah isinya.\n",
    "#Jika didalam suatu kesempatan kita ingin membuat data yang pakem,\n",
    "#maka tuples inilah jawabannya.\n",
    "#Contoh Tuples :\n",
    "Angka_01 = (0,1,2,3,4,5)\n",
    "#Jadi dalam tuples ini menggunakan kurung biasa \"()\" dalam penggunaannya."
   ]
  },
  {
   "cell_type": "code",
   "execution_count": 7,
   "id": "736c8d39",
   "metadata": {},
   "outputs": [
    {
     "name": "stdout",
     "output_type": "stream",
     "text": [
      "0\n"
     ]
    }
   ],
   "source": [
    "#untuk mencetak suatu elemen didalam tuples tersebut kita bisa menggunakan perintah seperti biasanya.\n",
    "#Berikut perintah untuk mencetak elemen di dalam tuples tersebut :\n",
    "print(Angka_01[0])"
   ]
  },
  {
   "cell_type": "code",
   "execution_count": 8,
   "id": "2891d1a8",
   "metadata": {},
   "outputs": [
    {
     "name": "stdout",
     "output_type": "stream",
     "text": [
      "(0, 1, 2, 3)\n"
     ]
    }
   ],
   "source": [
    "#Untuk mencetak urutan elemen didalam tuples, kita dapat menggunakan perintah seperti biasanya juga,\n",
    "#dengan urutan pertama yang kita ingin sampai urutan terakhir yang kita inginkan juga\n",
    "#REMINDER : urutan bilangan dalam python dimulai dari 0.\n",
    "#Berikut contoh perintahnya :\n",
    "print(Angka_01[0:4])"
   ]
  },
  {
   "cell_type": "code",
   "execution_count": 9,
   "id": "44974af0",
   "metadata": {},
   "outputs": [
    {
     "name": "stdout",
     "output_type": "stream",
     "text": [
      "0\n",
      "1\n",
      "2\n",
      "3\n"
     ]
    }
   ],
   "source": [
    "#Untuk mencetak list dari urutan yang kita piih dalam tuples dapat menggunakan\n",
    "#perintah for .... in variabel [urutan pertama]:[urutan terakhir]:\n",
    "#Berikut contohnya :\n",
    "for blabla in Angka_01[0:4]:\n",
    "    print(blabla)"
   ]
  },
  {
   "cell_type": "code",
   "execution_count": 10,
   "id": "58118f75",
   "metadata": {},
   "outputs": [
    {
     "ename": "TypeError",
     "evalue": "'tuple' object does not support item assignment",
     "output_type": "error",
     "traceback": [
      "\u001b[1;31m---------------------------------------------------------------------------\u001b[0m",
      "\u001b[1;31mTypeError\u001b[0m                                 Traceback (most recent call last)",
      "\u001b[1;32m~\\AppData\\Local\\Temp\\ipykernel_19300\\217568083.py\u001b[0m in \u001b[0;36m<module>\u001b[1;34m\u001b[0m\n\u001b[0;32m      1\u001b[0m \u001b[1;31m#Berikut adalah beberapa perintah yang tidak dapat digunakan dalam Tuples.\u001b[0m\u001b[1;33m\u001b[0m\u001b[1;33m\u001b[0m\u001b[0m\n\u001b[0;32m      2\u001b[0m \u001b[1;31m#yang pertama :\u001b[0m\u001b[1;33m\u001b[0m\u001b[1;33m\u001b[0m\u001b[0m\n\u001b[1;32m----> 3\u001b[1;33m \u001b[0mAngka_01\u001b[0m\u001b[1;33m[\u001b[0m\u001b[1;36m0\u001b[0m\u001b[1;33m]\u001b[0m \u001b[1;33m=\u001b[0m \u001b[1;36m7\u001b[0m\u001b[1;33m\u001b[0m\u001b[1;33m\u001b[0m\u001b[0m\n\u001b[0m\u001b[0;32m      4\u001b[0m \u001b[1;31m#Perintah ini bertujuan untuk mengubah elemen pertama dari Tuples tersebut menjadi 7\u001b[0m\u001b[1;33m\u001b[0m\u001b[1;33m\u001b[0m\u001b[0m\n\u001b[0;32m      5\u001b[0m \u001b[1;31m#Namun sesuai definisi tuples, perintah ini tidak dapat dijalankan\u001b[0m\u001b[1;33m\u001b[0m\u001b[1;33m\u001b[0m\u001b[0m\n",
      "\u001b[1;31mTypeError\u001b[0m: 'tuple' object does not support item assignment"
     ]
    }
   ],
   "source": [
    "#Berikut adalah beberapa perintah yang tidak dapat digunakan dalam Tuples.\n",
    "#yang pertama :\n",
    "Angka_01[0] = 7\n",
    "#Perintah ini bertujuan untuk mengubah elemen pertama dari Tuples tersebut menjadi 7\n",
    "#Namun sesuai definisi tuples, perintah ini tidak dapat dijalankan\n",
    "\n",
    "#yang kedua :\n",
    "Angka_01.append(7)\n",
    "#Perintah ini bertujuan untuk menambahkan 7 didalam Tuples.\n",
    "#Sesuai definisi tuples, perintah ini tidak dapat dijalankan.\n",
    "\n",
    "#yang ketiga :\n",
    "Angka_01.remove(4)\n",
    "#Perintah ini bertujuan untuk menghilangkan 4 didalam Tuples tersebut.\n",
    "#Tidak dapat dijalankan sesuai definisi tuples yang tidak bisa menambahkan dan menghapus data dalam tuples.\n",
    "\n",
    "#Berikut adalah keluaran yang akan keluar jika kita menggunakan ketiga contoh tersebut\n",
    "#ERROR"
   ]
  },
  {
   "cell_type": "code",
   "execution_count": 11,
   "id": "94cc4949",
   "metadata": {},
   "outputs": [
    {
     "data": {
      "text/plain": [
       "1"
      ]
     },
     "execution_count": 11,
     "metadata": {},
     "output_type": "execute_result"
    }
   ],
   "source": [
    "#Berikut adalah cara untuk mengetahui berapa banyak 'data' yang terdapat di dalam tuples\n",
    "Angka_01.count(3)\n",
    "#disini 3 hanya terdapat 1 buah di dalam tuples,\n",
    "#maka keluaran yang dicetak adalah 1"
   ]
  },
  {
   "cell_type": "code",
   "execution_count": 12,
   "id": "70067648",
   "metadata": {},
   "outputs": [
    {
     "data": {
      "text/plain": [
       "3"
      ]
     },
     "execution_count": 12,
     "metadata": {},
     "output_type": "execute_result"
    }
   ],
   "source": [
    "#Untuk mencari urutan keberapa sebuah 'data' yang ingin kita cari,\n",
    "#kita dapat menggunakan fungsi variabel.index(data yang ingin dicari)\n",
    "#Berikut contohnya :\n",
    "Angka_01.index(3)\n",
    "#Disini akan dicetak 3, sesuai urutan python yang dimulai dari 0\n",
    "#maka urutan angka 3 ini berada di urutan keempat."
   ]
  },
  {
   "cell_type": "markdown",
   "id": "2dad9735",
   "metadata": {},
   "source": [
    "# 5.18 Dictionaries"
   ]
  },
  {
   "cell_type": "code",
   "execution_count": 13,
   "id": "c14cf32c",
   "metadata": {},
   "outputs": [
    {
     "name": "stdout",
     "output_type": "stream",
     "text": [
      "Nama Negara :  Indonesia\n",
      "Kepala Pemerintahan :  Persiden\n",
      "Apakah Sudah Merdeka :  True \n",
      "\n",
      "Jika Sudah Merdeka, Kapan Tanggal Kemerdekaannya :  17-8-1945\n",
      "Maka Sekarang Umur Negara Tersebut Adalah :  78\n"
     ]
    }
   ],
   "source": [
    "#Berikut adalah contoh data dictionaries dengan tipe data string :\n",
    "data_negara_01 = {\n",
    "    \"nama\" : \"Indonesia\",\n",
    "    \"kepala_pemerintahan\" : \"Persiden\",\n",
    "    \"apakah_merdeka\" : True,\n",
    "    \"tanggalmerdeka\" : '17-8-1945',\n",
    "    \"umur\" : 78\n",
    "}\n",
    "#untuk memanggil suatu data didalam dictionaries perlu menggunakan tanda '[]'\n",
    "print(\"Nama Negara : \",data_negara_01['nama'])\n",
    "print(\"Kepala Pemerintahan : \",data_negara_01['kepala_pemerintahan'])\n",
    "print(\"Apakah Sudah Merdeka : \" , data_negara_01['apakah_merdeka'], '\\n') \n",
    "\n",
    "#dapat menambahkan .get setelah variabel untuk memperjelas pemanggilannya.\n",
    "#Namun didalam .get ini menggunakan tanda kurung biasa'()\n",
    "print(\"Jika Sudah Merdeka, Kapan Tanggal Kemerdekaannya : \", data_negara_01.get('tanggalmerdeka'))\n",
    "print(\"Maka Sekarang Umur Negara Tersebut Adalah : \", data_negara_01.get('umur'))\n",
    "\n",
    "#AKAN DICETAK SEBAGAI BERIKUT"
   ]
  },
  {
   "cell_type": "markdown",
   "id": "fa0cbfa2",
   "metadata": {},
   "source": [
    "# 5.19 Fungsi dalam Python"
   ]
  },
  {
   "cell_type": "code",
   "execution_count": 14,
   "id": "cba34e7c",
   "metadata": {},
   "outputs": [],
   "source": [
    "#berikut adalah contoh fungsi di dalam Python\n",
    "#disini kita ingin memnbuat sebuah fungsi tentang nama lengkap dari seseorang.\n",
    "\n",
    "#Sebagai gambaran umum, disini kita masukkan nama orang yang memiliki dua kata.\n",
    "#karena dua kata, kita memerlukan dua variabel di dalam fungsi ini.\n",
    "#variabel pertama saya beri nama first_name\n",
    "#variabel kedua diberi nama last_name\n",
    "#disini fungsinya adalah variabel first_name 'spasi' last_name\n",
    "def full_nama(first_name, last_name):\n",
    "    print(f\"Nama lengkapnya adalah {first_name} {last_name}\")\n",
    "    #Akan dicetak keluaran seperti ini pada pemanggilan fungsi selanjutnya."
   ]
  },
  {
   "cell_type": "code",
   "execution_count": 15,
   "id": "fe2ca2cb",
   "metadata": {},
   "outputs": [
    {
     "name": "stdout",
     "output_type": "stream",
     "text": [
      "Nama depan anda adalah : Jaya\n",
      "Nama belakang anda adalah : Kusuma\n",
      "Nama lengkapnya adalah Jaya Kusuma\n"
     ]
    }
   ],
   "source": [
    "#Pertama kita meminta pengguna untuk menambahkan nama depan mereka.\n",
    "first_name = input(\"Nama depan anda adalah : \")\n",
    "#Setelahnya kita juga meminta pengguna menambahkan nama belakangnya.\n",
    "last_name = input(\"Nama belakang anda adalah : \")\n",
    "#Disini kita panggil fungsi yang ingin kita keluarkan.\n",
    "full_nama(first_name,last_name)\n",
    "#Maka keluaran yang akan didapatkan sebagai berikut :"
   ]
  },
  {
   "cell_type": "code",
   "execution_count": 16,
   "id": "fdcaed38",
   "metadata": {},
   "outputs": [
    {
     "name": "stdout",
     "output_type": "stream",
     "text": [
      "Diketahui sebuah Layang-layang dengan diagonal pertamanya adalah 10 dan diagonal duanya adalah 15\n",
      "Maka luas layang-layang tersebut adalah :  75.0\n"
     ]
    }
   ],
   "source": [
    "#Contoh Fungsi Lainnya\n",
    "#Disini saya akan membuat fungsi tentang luas layang-layang.\n",
    "\n",
    "#pertama kita harus mengetahui bagaimana luas layang-layang.\n",
    "#Luas layang-layang adalah 1/2 dikali dengan diagonal 1 dikali diagonal 2.\n",
    "#Maka dapat saya simpulkan fungsinya adalah : 1/2 * d1 * d2.\n",
    "#Berikut saya buat perintahnya :\n",
    "\n",
    "#Disini saya membutuhkan dua variabel yaitu d1 dan d2\n",
    "def Luas_LayangLayang(d1,d2):\n",
    "    #Berikut adalah operas fungsi dari luas layang-layang\n",
    "    Luas = (1/2)*d1*d2\n",
    "    #perintah 'return' digunakan untuk memanggil kembali variabel fungsinya\n",
    "    return Luas\n",
    "    \n",
    "#variabel x memanggil fungsi Luas_LayangLayang\n",
    "x = Luas_LayangLayang(10,15)\n",
    "print(\"Diketahui sebuah Layang-layang dengan diagonal pertamanya adalah 10 dan diagonal duanya adalah 15\")\n",
    "print(\"Maka luas layang-layang tersebut adalah : \", x)"
   ]
  },
  {
   "cell_type": "markdown",
   "id": "381c109a",
   "metadata": {},
   "source": [
    "# 5.20 Numpy"
   ]
  },
  {
   "cell_type": "code",
   "execution_count": 17,
   "id": "b4953d77",
   "metadata": {},
   "outputs": [],
   "source": [
    "#Numpy merupakan salah satu library didalam python yang dapat difungsikan dalam penghitungan\n",
    "#menggunakan vektor dan matriks dalam beragam dimensi.\n",
    "\n",
    "#Hal pertama yang dilakukan untuk memanggil library numpy dalam python ini dengan cara :\n",
    "import numpy as np\n",
    "#disini sebenarnya kita dapat mengimport numpy dalam beragam nama,\n",
    "#namun biasanya kebanyakan orang menggunakan 'np'."
   ]
  },
  {
   "cell_type": "markdown",
   "id": "9ae55986",
   "metadata": {},
   "source": [
    "## 5.20.1 Perintah Dasar pada Numpy"
   ]
  },
  {
   "cell_type": "code",
   "execution_count": 18,
   "id": "c51dd628",
   "metadata": {},
   "outputs": [
    {
     "name": "stdout",
     "output_type": "stream",
     "text": [
      "[0 1 2 3 4]\n"
     ]
    }
   ],
   "source": [
    "#Disini dibuat sebuah data array dengan matriks berordo 1x4\n",
    "a = np.array([0,1,2,3,4])\n",
    "#dilakukan dengan mengimpor library Numpy yang telah diinisialkan dengan 'np' \n",
    "#serta membuat array dengan fungsi \"np.array\" untuk disimpan dalam variabel a\n",
    "print(a)\n",
    "#dilakukan pencetakan variabel a yang memiliki 1 baris dan 4 kolom dan berisi angka-angka yang telah dideklarasikan"
   ]
  },
  {
   "cell_type": "code",
   "execution_count": 19,
   "id": "79cc4adb",
   "metadata": {},
   "outputs": [
    {
     "name": "stdout",
     "output_type": "stream",
     "text": [
      "[[5 6 7 8]\n",
      " [9 8 7 6]]\n"
     ]
    }
   ],
   "source": [
    "#dibuat lagi sebuah data array dengan matriks berordo 2x4\n",
    "b = np.array([[5,6,7,8],[9,8,7,6]])\n",
    "#fungsi ini akan disimpan dalam variabel b\n",
    "print(b)\n",
    "#mencetak variabel b dengan baris 2 dan 4 kolom"
   ]
  },
  {
   "cell_type": "code",
   "execution_count": 20,
   "id": "71b4f57b",
   "metadata": {},
   "outputs": [
    {
     "name": "stdout",
     "output_type": "stream",
     "text": [
      "[[[0 1 2 3]\n",
      "  [4 5 6 7]\n",
      "  [8 9 8 7]\n",
      "  [6 5 4 3]\n",
      "  [1 2 3 4]\n",
      "  [5 6 7 8]]]\n"
     ]
    }
   ],
   "source": [
    "#dibuat lagi sebuah data array dengan matriks berordo 6x4\n",
    "c = np.array([[[0,1,2,3],[4,5,6,7],[8,9,8,7],[6,5,4,3],[1,2,3,4],[5,6,7,8]]])\n",
    "#fungsi ini akan disimpan dalam variabel c\n",
    "print(c)\n",
    "#mencetak variabel c dengan baris 6 dan 4 kolom"
   ]
  },
  {
   "cell_type": "code",
   "execution_count": 21,
   "id": "cee46fde",
   "metadata": {},
   "outputs": [
    {
     "data": {
      "text/plain": [
       "1"
      ]
     },
     "execution_count": 21,
     "metadata": {},
     "output_type": "execute_result"
    }
   ],
   "source": [
    "#variabel.ndim\n",
    "#digunakan untuk mengetahui jumlah dimensi dari sebuah array dalam Numpy\n",
    "#sehingga sistem akan mencetak dimensi matriks dari array tersebut\n",
    "a.ndim"
   ]
  },
  {
   "cell_type": "code",
   "execution_count": 22,
   "id": "75f22aa0",
   "metadata": {},
   "outputs": [
    {
     "data": {
      "text/plain": [
       "2"
      ]
     },
     "execution_count": 22,
     "metadata": {},
     "output_type": "execute_result"
    }
   ],
   "source": [
    "b.ndim"
   ]
  },
  {
   "cell_type": "code",
   "execution_count": 23,
   "id": "fd338f68",
   "metadata": {},
   "outputs": [
    {
     "data": {
      "text/plain": [
       "3"
      ]
     },
     "execution_count": 23,
     "metadata": {},
     "output_type": "execute_result"
    }
   ],
   "source": [
    "c.ndim"
   ]
  },
  {
   "cell_type": "code",
   "execution_count": 24,
   "id": "64323901",
   "metadata": {},
   "outputs": [
    {
     "data": {
      "text/plain": [
       "(5,)"
      ]
     },
     "execution_count": 24,
     "metadata": {},
     "output_type": "execute_result"
    }
   ],
   "source": [
    "#variabel.shape\n",
    "#digunakan untuk mengetahuo jumlah baris dan kolom dalam sebuah array di numpy\n",
    "#baris akan dicetak terlebih dahulu, kemudian dilanjutkan dengan kolom\n",
    "a.shape\n",
    "#disini akan dicetak'(5,)' yang artinya memiliki 1 baris dan 5 kolom"
   ]
  },
  {
   "cell_type": "code",
   "execution_count": 25,
   "id": "1aeec19e",
   "metadata": {},
   "outputs": [
    {
     "data": {
      "text/plain": [
       "(2, 4)"
      ]
     },
     "execution_count": 25,
     "metadata": {},
     "output_type": "execute_result"
    }
   ],
   "source": [
    "b.shape"
   ]
  },
  {
   "cell_type": "code",
   "execution_count": 26,
   "id": "dbc64151",
   "metadata": {},
   "outputs": [
    {
     "data": {
      "text/plain": [
       "(1, 6, 4)"
      ]
     },
     "execution_count": 26,
     "metadata": {},
     "output_type": "execute_result"
    }
   ],
   "source": [
    "c.shape\n",
    "#disini berarti 6 baris dan 4 kolom"
   ]
  },
  {
   "cell_type": "markdown",
   "id": "21ee6870",
   "metadata": {},
   "source": [
    "## 5.20.2 Memanggil Anggota,Kolom dan Baris dengan Numpy"
   ]
  },
  {
   "cell_type": "code",
   "execution_count": 27,
   "id": "19294572",
   "metadata": {},
   "outputs": [],
   "source": [
    "import numpy as jaya"
   ]
  },
  {
   "cell_type": "code",
   "execution_count": 28,
   "id": "bb46f6ae",
   "metadata": {},
   "outputs": [
    {
     "name": "stdout",
     "output_type": "stream",
     "text": [
      "[[ 1  2  3  4]\n",
      " [ 5  6  7  8]\n",
      " [ 9 10 11 12]]\n"
     ]
    }
   ],
   "source": [
    "#buatkan sebuah data array dengan matriks berordo 3x4\n",
    "d = jaya.array ([[1,2,3,4], [5,6,7,8], [9,10,11,12]])\n",
    "#dilakukan dengan mengimpor library Numpy yang telah diinisialkan dengan 'jaya' \n",
    "#serta membuat array dengan fungsi \"jaya.array\" untuk disimpan dalam variabel d\n",
    "print (d)\n",
    "#mencetak array pada variabel d"
   ]
  },
  {
   "cell_type": "code",
   "execution_count": 29,
   "id": "60746012",
   "metadata": {},
   "outputs": [
    {
     "data": {
      "text/plain": [
       "4"
      ]
     },
     "execution_count": 29,
     "metadata": {},
     "output_type": "execute_result"
    }
   ],
   "source": [
    "d[0,3]\n",
    "#Jadi disini akan dicetak data pada baris pertama dan kolom ketiga\n",
    "#REMINDER : urutan pada python dimulai dari 0"
   ]
  },
  {
   "cell_type": "code",
   "execution_count": 30,
   "id": "d5099909",
   "metadata": {},
   "outputs": [
    {
     "data": {
      "text/plain": [
       "array([ 9, 10, 11, 12])"
      ]
     },
     "execution_count": 30,
     "metadata": {},
     "output_type": "execute_result"
    }
   ],
   "source": [
    "#disini akan dicetak array dari baris ketiga dengan perintah berikut :\n",
    "d[2,:]"
   ]
  },
  {
   "cell_type": "code",
   "execution_count": 31,
   "id": "b0894597",
   "metadata": {},
   "outputs": [
    {
     "data": {
      "text/plain": [
       "array([ 4,  8, 12])"
      ]
     },
     "execution_count": 31,
     "metadata": {},
     "output_type": "execute_result"
    }
   ],
   "source": [
    "#disini akan dicetak array dari kolom keempat dengan perintah berikut :\n",
    "d[:,3]"
   ]
  },
  {
   "cell_type": "code",
   "execution_count": 32,
   "id": "5b8aca63",
   "metadata": {},
   "outputs": [
    {
     "data": {
      "text/plain": [
       "array([2, 3])"
      ]
     },
     "execution_count": 32,
     "metadata": {},
     "output_type": "execute_result"
    }
   ],
   "source": [
    "d[0, 1 : 3]\n",
    "#Perintah ini akan memberikan keluaran berupa elemen pada baris pertama dan kolom kedua hingga kolom ketiga pada matriks\n",
    "# 0 menunjukkan baris\n",
    "# 1 : 3 menunjukkan indeks dari elemen matriks yang akan diambil"
   ]
  },
  {
   "cell_type": "markdown",
   "id": "89d472db",
   "metadata": {},
   "source": [
    "## 5.20.3 Matriks pada Numpy"
   ]
  },
  {
   "cell_type": "code",
   "execution_count": 33,
   "id": "e1888d82",
   "metadata": {},
   "outputs": [],
   "source": [
    "import numpy as jacob"
   ]
  },
  {
   "cell_type": "code",
   "execution_count": 34,
   "id": "0016da44",
   "metadata": {},
   "outputs": [
    {
     "data": {
      "text/plain": [
       "array([[1., 1., 1.],\n",
       "       [1., 1., 1.]])"
      ]
     },
     "execution_count": 34,
     "metadata": {},
     "output_type": "execute_result"
    }
   ],
   "source": [
    "#Akan dibuat matriks dengan ukuran 2 baris dan 3 kolom dimana semua anggotanya adalah 1\n",
    "jacob.ones ((2,3))\n",
    "#fungsi (.ones) ini digunakan untuk memmbuat matriks berordo tertentu dengan semua elemennya memiliki nilai 1\n",
    "# 2 menunjukkan baris\n",
    "# 3 menunjukkan kolom"
   ]
  },
  {
   "cell_type": "code",
   "execution_count": 35,
   "id": "6d1b6fc5",
   "metadata": {},
   "outputs": [
    {
     "data": {
      "text/plain": [
       "array([[0., 0.],\n",
       "       [0., 0.],\n",
       "       [0., 0.]])"
      ]
     },
     "execution_count": 35,
     "metadata": {},
     "output_type": "execute_result"
    }
   ],
   "source": [
    "#Disini akan dibuat matriks dengan ukuran 3 baris dan 2 kolom yang anggotanya adalah 0\n",
    "jacob.zeros((3,2))\n",
    "#zeros berfungsi untuk menambahkan anggota 0"
   ]
  },
  {
   "cell_type": "code",
   "execution_count": 36,
   "id": "5447e448",
   "metadata": {},
   "outputs": [
    {
     "data": {
      "text/plain": [
       "array([[1., 0., 0., 0.],\n",
       "       [0., 1., 0., 0.],\n",
       "       [0., 0., 1., 0.],\n",
       "       [0., 0., 0., 1.]])"
      ]
     },
     "execution_count": 36,
     "metadata": {},
     "output_type": "execute_result"
    }
   ],
   "source": [
    "jacob.identity(4)\n",
    "#Fungsi .identity digunakan untuk membuat sebuah matriks identitas \n",
    "#matriks identitas adalah matriks dimana elemen di diagonal utamanya adalah 1 sedangkan elemen lainnya bernilai 0"
   ]
  },
  {
   "cell_type": "code",
   "execution_count": 37,
   "id": "73f2ccd5",
   "metadata": {},
   "outputs": [
    {
     "data": {
      "text/plain": [
       "array([[[1., 1., 1., 1.],\n",
       "        [1., 1., 1., 1.],\n",
       "        [1., 1., 1., 1.]],\n",
       "\n",
       "       [[1., 1., 1., 1.],\n",
       "        [1., 1., 1., 1.],\n",
       "        [1., 1., 1., 1.]]])"
      ]
     },
     "execution_count": 37,
     "metadata": {},
     "output_type": "execute_result"
    }
   ],
   "source": [
    "#Disini akan dibuat dua buah matriks yang memiliki 3 baris dan 4 kolom yang anggotanya 1\n",
    "jacob.ones((2,3,4))"
   ]
  },
  {
   "cell_type": "code",
   "execution_count": 38,
   "id": "2f0cd34e",
   "metadata": {},
   "outputs": [
    {
     "data": {
      "text/plain": [
       "array([[9, 9],\n",
       "       [9, 9],\n",
       "       [9, 9]])"
      ]
     },
     "execution_count": 38,
     "metadata": {},
     "output_type": "execute_result"
    }
   ],
   "source": [
    "#fungsi full digunakan untuk membuat sebuah matriks dengan ukuran tertentu \n",
    "#yang semua elemen dalam matriks telah ditentukan melalui perintahnya\n",
    "jacob.full((3,2),9)\n",
    "#jadi disini akan dibuat matriks dengan 3 baris dan 2 kolom beranggotakan 9"
   ]
  },
  {
   "cell_type": "code",
   "execution_count": 39,
   "id": "47785098",
   "metadata": {},
   "outputs": [
    {
     "data": {
      "text/plain": [
       "array([[0.49634178, 0.05668602, 0.04106966],\n",
       "       [0.40378424, 0.68069099, 0.29862923],\n",
       "       [0.44200417, 0.93460109, 0.9852986 ],\n",
       "       [0.79852081, 0.6871365 , 0.94578615]])"
      ]
     },
     "execution_count": 39,
     "metadata": {},
     "output_type": "execute_result"
    }
   ],
   "source": [
    "#fungsi (.random.rand) digunakan untuk menghasilkan nilai acak dengan sebaran yang seragam antara 0 sampai 1\n",
    "jacob.random.rand(4,3)\n",
    "#perintah diatas akan menghasilkan matriks dengan\n",
    "#4 baris dan 3 kolom, dimana elemennya adalah nilai acak\n",
    "#yang terdistribusi seragam antara 0 sampai 1."
   ]
  },
  {
   "cell_type": "code",
   "execution_count": 40,
   "id": "d3013354",
   "metadata": {},
   "outputs": [
    {
     "data": {
      "text/plain": [
       "array([[2, 6, 3, 3],\n",
       "       [3, 1, 1, 7],\n",
       "       [4, 5, 7, 5]])"
      ]
     },
     "execution_count": 40,
     "metadata": {},
     "output_type": "execute_result"
    }
   ],
   "source": [
    "#fungsi (.random.randint) digunakan untuk menghasilkan matriks\n",
    "#dengan elemennya adalah nilai acak di antara 2 nilai yang telah ditentukan\n",
    "jacob.random.randint(1,10,size=(3,4))\n",
    "#telah ditentukan batas bawah adalah 1 dan batas atasnya adalah 10\n",
    "#ukuran dari matriks adalah 3 baris dan 4 kolom\n",
    "#elemen-elemen matirksnya adalah bilangan bulat antara 1-10 yang dijadikan matriks dan disusun acak."
   ]
  },
  {
   "cell_type": "markdown",
   "id": "d6cc61dc",
   "metadata": {},
   "source": [
    "## 5.20.4 Copy pada Numpy"
   ]
  },
  {
   "cell_type": "code",
   "execution_count": 41,
   "id": "997d5374",
   "metadata": {},
   "outputs": [],
   "source": [
    "import numpy as jin"
   ]
  },
  {
   "cell_type": "code",
   "execution_count": 42,
   "id": "24c984b4",
   "metadata": {},
   "outputs": [
    {
     "name": "stdout",
     "output_type": "stream",
     "text": [
      "[1 2 3 4 5]\n"
     ]
    }
   ],
   "source": [
    "a = jin.array([1,2,3,4,5])\n",
    "print(a)"
   ]
  },
  {
   "cell_type": "code",
   "execution_count": 43,
   "id": "3766a3b4",
   "metadata": {},
   "outputs": [
    {
     "name": "stdout",
     "output_type": "stream",
     "text": [
      "[1 2 3 4 5]\n"
     ]
    }
   ],
   "source": [
    "b = a\n",
    "#karena sudah dideklarasikan b = a, maka anggota matriks b adalah anggota a.\n",
    "print(b)"
   ]
  },
  {
   "cell_type": "code",
   "execution_count": 44,
   "id": "2bf766bd",
   "metadata": {},
   "outputs": [
    {
     "name": "stdout",
     "output_type": "stream",
     "text": [
      "[10  2  3  4  5]\n"
     ]
    }
   ],
   "source": [
    "#disini kita akan mengubah elemen pertama pada b menjadi 10.\n",
    "b[0] = 10\n",
    "print(b)"
   ]
  },
  {
   "cell_type": "code",
   "execution_count": 45,
   "id": "f01ee759",
   "metadata": {},
   "outputs": [
    {
     "name": "stdout",
     "output_type": "stream",
     "text": [
      "[10  2  3  4  5]\n"
     ]
    }
   ],
   "source": [
    "#karena sudah dideklarasikan a=b maka anggota di a juga diubah sesuai dengan yang di b.\n",
    "print(a)"
   ]
  },
  {
   "cell_type": "code",
   "execution_count": 46,
   "id": "2d319ced",
   "metadata": {},
   "outputs": [
    {
     "name": "stdout",
     "output_type": "stream",
     "text": [
      "[1 2 3 4 5]\n"
     ]
    }
   ],
   "source": [
    "c = jin.array([1,2,3,4,5])\n",
    "print(c)"
   ]
  },
  {
   "cell_type": "code",
   "execution_count": 47,
   "id": "699c7400",
   "metadata": {},
   "outputs": [
    {
     "name": "stdout",
     "output_type": "stream",
     "text": [
      "[1 2 3 4 5]\n"
     ]
    }
   ],
   "source": [
    "d = c.copy()\n",
    "#kode diatas akan membuat salinan dari variabel c dan menempel salinan tersebut ke varianel d\n",
    "#sehingga elemen dari c dan d akan sama\n",
    "#tetapi, perubahan yang dilakukan pada variabel d tidak akan mempengaruhi variabel c.\n",
    "print(d)"
   ]
  },
  {
   "cell_type": "code",
   "execution_count": 48,
   "id": "3e5db2cf",
   "metadata": {},
   "outputs": [
    {
     "name": "stdout",
     "output_type": "stream",
     "text": [
      "[10  2  3  4  5]\n"
     ]
    }
   ],
   "source": [
    "#Sebagai contoh disini kita akan mengganti elemen pertama dari d menjadi 10.\n",
    "d[0]=10\n",
    "print(d)"
   ]
  },
  {
   "cell_type": "code",
   "execution_count": 49,
   "id": "d79dcd99",
   "metadata": {},
   "outputs": [
    {
     "name": "stdout",
     "output_type": "stream",
     "text": [
      "[1 2 3 4 5]\n"
     ]
    }
   ],
   "source": [
    "print(c)\n",
    "#kita cek di variabel c, tenyata tidak ada perubahan sama sekali."
   ]
  },
  {
   "cell_type": "markdown",
   "id": "1f524564",
   "metadata": {},
   "source": [
    "## 5.20.5 Operasi Matematika pada Numpy"
   ]
  },
  {
   "cell_type": "code",
   "execution_count": 50,
   "id": "3c267e82",
   "metadata": {},
   "outputs": [],
   "source": [
    "import numpy as jackson"
   ]
  },
  {
   "cell_type": "code",
   "execution_count": 51,
   "id": "28d7ad35",
   "metadata": {},
   "outputs": [
    {
     "data": {
      "text/plain": [
       "array([12,  4,  5,  6,  7])"
      ]
     },
     "execution_count": 51,
     "metadata": {},
     "output_type": "execute_result"
    }
   ],
   "source": [
    "a+2\n",
    "#karena sebelum ini a sudah diinput sebagai matriks dengan anggota [10, 2, 3, 4, 5],\n",
    "#maka elemen dari a ditambahkan dengan dua."
   ]
  },
  {
   "cell_type": "code",
   "execution_count": 52,
   "id": "6a876cd4",
   "metadata": {},
   "outputs": [
    {
     "data": {
      "text/plain": [
       "array([8, 0, 1, 2, 3])"
      ]
     },
     "execution_count": 52,
     "metadata": {},
     "output_type": "execute_result"
    }
   ],
   "source": [
    "a-2\n",
    "#ini juga sama, elemen dari a dikurangi 2."
   ]
  },
  {
   "cell_type": "code",
   "execution_count": 53,
   "id": "7de8ee98",
   "metadata": {},
   "outputs": [
    {
     "data": {
      "text/plain": [
       "array([20,  4,  6,  8, 10])"
      ]
     },
     "execution_count": 53,
     "metadata": {},
     "output_type": "execute_result"
    }
   ],
   "source": [
    "a*2\n",
    "#elemen dari a dikali dengan 2."
   ]
  },
  {
   "cell_type": "code",
   "execution_count": 54,
   "id": "b7b421dc",
   "metadata": {},
   "outputs": [
    {
     "data": {
      "text/plain": [
       "array([5. , 1. , 1.5, 2. , 2.5])"
      ]
     },
     "execution_count": 54,
     "metadata": {},
     "output_type": "execute_result"
    }
   ],
   "source": [
    "a/2\n",
    "#elemen dari a dibagi dengan 2."
   ]
  },
  {
   "cell_type": "code",
   "execution_count": 55,
   "id": "1b2bb9e7",
   "metadata": {},
   "outputs": [
    {
     "data": {
      "text/plain": [
       "array([100,   4,   9,  16,  25], dtype=int32)"
      ]
     },
     "execution_count": 55,
     "metadata": {},
     "output_type": "execute_result"
    }
   ],
   "source": [
    "a**2\n",
    "#elemen dari a dipangkatkan dengan 2."
   ]
  },
  {
   "cell_type": "code",
   "execution_count": 56,
   "id": "1e4f32ed",
   "metadata": {},
   "outputs": [
    {
     "name": "stdout",
     "output_type": "stream",
     "text": [
      "[ 6  7  8  9 10]\n"
     ]
    }
   ],
   "source": [
    "b = jackson.array([6,7,8,9,10])\n",
    "print(b)"
   ]
  },
  {
   "cell_type": "code",
   "execution_count": 57,
   "id": "9d156986",
   "metadata": {},
   "outputs": [
    {
     "data": {
      "text/plain": [
       "array([16,  9, 11, 13, 15])"
      ]
     },
     "execution_count": 57,
     "metadata": {},
     "output_type": "execute_result"
    }
   ],
   "source": [
    "a+b\n",
    "#disini elemen dari matriks a akan dijumlahkan dengan elemen dari matriks b."
   ]
  },
  {
   "cell_type": "code",
   "execution_count": 58,
   "id": "f2947c42",
   "metadata": {},
   "outputs": [
    {
     "data": {
      "text/plain": [
       "array([ 4, -5, -5, -5, -5])"
      ]
     },
     "execution_count": 58,
     "metadata": {},
     "output_type": "execute_result"
    }
   ],
   "source": [
    "a-b\n",
    "#elemen dari matriks a akan dikurangi dengan elemen dari matriks b."
   ]
  },
  {
   "cell_type": "code",
   "execution_count": 59,
   "id": "d52872e2",
   "metadata": {},
   "outputs": [
    {
     "data": {
      "text/plain": [
       "array([60, 14, 24, 36, 50])"
      ]
     },
     "execution_count": 59,
     "metadata": {},
     "output_type": "execute_result"
    }
   ],
   "source": [
    "a*b\n",
    "#elemen dari matriks a akan dikalikan dengan elemen dari matriks b."
   ]
  },
  {
   "cell_type": "code",
   "execution_count": 60,
   "id": "815f5afd",
   "metadata": {},
   "outputs": [
    {
     "data": {
      "text/plain": [
       "array([1.66666667, 0.28571429, 0.375     , 0.44444444, 0.5       ])"
      ]
     },
     "execution_count": 60,
     "metadata": {},
     "output_type": "execute_result"
    }
   ],
   "source": [
    "a/b\n",
    "#elemen dari matriks a akan dibagi dengan elemen dari matriks b."
   ]
  },
  {
   "cell_type": "code",
   "execution_count": 61,
   "id": "3f593f6b",
   "metadata": {},
   "outputs": [
    {
     "data": {
      "text/plain": [
       "array([60466176,       49,      512,     6561,   100000], dtype=int32)"
      ]
     },
     "execution_count": 61,
     "metadata": {},
     "output_type": "execute_result"
    }
   ],
   "source": [
    "b**a\n",
    "#elemen dari matriks b akan dipangkatkan dengan elemen dari matriks a."
   ]
  },
  {
   "cell_type": "code",
   "execution_count": 62,
   "id": "08296b5a",
   "metadata": {},
   "outputs": [
    {
     "data": {
      "text/plain": [
       "array([-0.83907153, -0.41614684, -0.9899925 , -0.65364362,  0.28366219])"
      ]
     },
     "execution_count": 62,
     "metadata": {},
     "output_type": "execute_result"
    }
   ],
   "source": [
    "jackson.cos(a)\n",
    "#disini akan menghitung nilai cos dari elemen matriks a."
   ]
  },
  {
   "cell_type": "code",
   "execution_count": 63,
   "id": "c6893fe8",
   "metadata": {},
   "outputs": [
    {
     "data": {
      "text/plain": [
       "array([ 0.64836083, -2.18503986, -0.14254654,  1.15782128, -3.38051501])"
      ]
     },
     "execution_count": 63,
     "metadata": {},
     "output_type": "execute_result"
    }
   ],
   "source": [
    "jackson.tan(a)\n",
    "#disini akan menghitung nilai tan dari elemen matriks a."
   ]
  },
  {
   "cell_type": "code",
   "execution_count": 64,
   "id": "4a4728f6",
   "metadata": {},
   "outputs": [
    {
     "data": {
      "text/plain": [
       "array([-0.54402111,  0.90929743,  0.14112001, -0.7568025 , -0.95892427])"
      ]
     },
     "execution_count": 64,
     "metadata": {},
     "output_type": "execute_result"
    }
   ],
   "source": [
    "jackson.sin(a)\n",
    "#disini akan menghitung nilai sin dari elemen matriks a."
   ]
  },
  {
   "cell_type": "code",
   "execution_count": 65,
   "id": "7997d959",
   "metadata": {},
   "outputs": [
    {
     "data": {
      "text/plain": [
       "array([1.10132329e+04, 3.62686041e+00, 1.00178749e+01, 2.72899172e+01,\n",
       "       7.42032106e+01])"
      ]
     },
     "execution_count": 65,
     "metadata": {},
     "output_type": "execute_result"
    }
   ],
   "source": [
    "jackson.sinh(a)\n",
    "#disini akan menghitung nilai sin hiperbolik dari elemen matriks a."
   ]
  },
  {
   "cell_type": "code",
   "execution_count": 66,
   "id": "184f1d75",
   "metadata": {},
   "outputs": [
    {
     "data": {
      "text/plain": [
       "array([3.16227766, 1.41421356, 1.73205081, 2.        , 2.23606798])"
      ]
     },
     "execution_count": 66,
     "metadata": {},
     "output_type": "execute_result"
    }
   ],
   "source": [
    "jackson.sqrt(a)\n",
    "#Operasi ini akan menghitung akar kuadrat dari anggota matriks a."
   ]
  },
  {
   "cell_type": "markdown",
   "id": "219906c2",
   "metadata": {},
   "source": [
    "## 5.20.6 Perkalian Matrik pada Numpy"
   ]
  },
  {
   "cell_type": "code",
   "execution_count": 67,
   "id": "eb590413",
   "metadata": {},
   "outputs": [],
   "source": [
    "import numpy as np"
   ]
  },
  {
   "cell_type": "code",
   "execution_count": 68,
   "id": "9d1b8df8",
   "metadata": {},
   "outputs": [
    {
     "name": "stdout",
     "output_type": "stream",
     "text": [
      "[[1 2 3 4]\n",
      " [5 6 7 8]]\n"
     ]
    }
   ],
   "source": [
    "#deklarasikan variabel a dengan matriks 2x4.\n",
    "a = np.array([[1,2,3,4],[5,6,7,8]])\n",
    "print(a)"
   ]
  },
  {
   "cell_type": "code",
   "execution_count": 69,
   "id": "583b740e",
   "metadata": {},
   "outputs": [
    {
     "name": "stdout",
     "output_type": "stream",
     "text": [
      "[[ 9 10 11 12]\n",
      " [13 14 15 16]]\n"
     ]
    }
   ],
   "source": [
    "#deklarasikan variabel b dengan matriks 2x4 juga.\n",
    "b = np.array([[9,10,11,12],[13,14,15,16]])\n",
    "print(b)"
   ]
  },
  {
   "cell_type": "code",
   "execution_count": 70,
   "id": "1e9ad715",
   "metadata": {},
   "outputs": [
    {
     "name": "stdout",
     "output_type": "stream",
     "text": [
      "[[  9  20  33  48]\n",
      " [ 65  84 105 128]]\n"
     ]
    }
   ],
   "source": [
    "#disini perintah c akan menghitung hasil kali dari matriks a dan b.\n",
    "c = a*b\n",
    "print(c)"
   ]
  },
  {
   "cell_type": "code",
   "execution_count": 71,
   "id": "74600e8f",
   "metadata": {},
   "outputs": [
    {
     "name": "stdout",
     "output_type": "stream",
     "text": [
      "[[ 9 10]\n",
      " [11 12]\n",
      " [13 14]\n",
      " [15 16]]\n"
     ]
    }
   ],
   "source": [
    "d = np.array([[9,10],[11,12],[13,14],[15,16]])\n",
    "print(d)"
   ]
  },
  {
   "cell_type": "code",
   "execution_count": 72,
   "id": "068d3f67",
   "metadata": {},
   "outputs": [
    {
     "name": "stdout",
     "output_type": "stream",
     "text": [
      "[[130 140]\n",
      " [322 348]]\n"
     ]
    }
   ],
   "source": [
    "e = np.matmul(a,d)\n",
    "# fungsi 'matmul()' berfungsi untuk mengalikan kedua matriks yaitu matriks a dan d\n",
    "print(e)"
   ]
  },
  {
   "cell_type": "markdown",
   "id": "4a2c51d4",
   "metadata": {},
   "source": [
    "## 5.20.7 Min,Max dan Sum pada Numpy"
   ]
  },
  {
   "cell_type": "code",
   "execution_count": 73,
   "id": "5776913e",
   "metadata": {},
   "outputs": [],
   "source": [
    "import numpy as np"
   ]
  },
  {
   "cell_type": "code",
   "execution_count": 74,
   "id": "1d9c5208",
   "metadata": {},
   "outputs": [
    {
     "name": "stdout",
     "output_type": "stream",
     "text": [
      "[[ 1  2  3  4]\n",
      " [ 5  6  7  8]\n",
      " [ 9 10 11 12]]\n"
     ]
    }
   ],
   "source": [
    "a = np.array([[1,2,3,4],\n",
    "             [5,6,7,8],[9,10,11,12]])\n",
    "print (a)"
   ]
  },
  {
   "cell_type": "code",
   "execution_count": 75,
   "id": "16fa3a2d",
   "metadata": {},
   "outputs": [
    {
     "name": "stdout",
     "output_type": "stream",
     "text": [
      "1\n"
     ]
    }
   ],
   "source": [
    "b = np.min(a)\n",
    "#fungsi min adalah untuk mencari nilai terkecil dari suatu matriks\n",
    "#jadi disini nilai terkecil di dalam matriks a adalah 1.\n",
    "print(b)"
   ]
  },
  {
   "cell_type": "code",
   "execution_count": 76,
   "id": "f4c706b5",
   "metadata": {},
   "outputs": [
    {
     "name": "stdout",
     "output_type": "stream",
     "text": [
      "[1 2 3 4]\n"
     ]
    }
   ],
   "source": [
    "c = np.min(a,axis=0)\n",
    "#axis = 0 menunjukkan kolom, jadi nilai terendah dalam seluruh kolom akan dicetak melalui perintah dibawah ini.\n",
    "print(c)"
   ]
  },
  {
   "cell_type": "code",
   "execution_count": 77,
   "id": "a36aaf4c",
   "metadata": {},
   "outputs": [
    {
     "name": "stdout",
     "output_type": "stream",
     "text": [
      "[1 5 9]\n"
     ]
    }
   ],
   "source": [
    "d = np.min(a,axis=1)\n",
    "#axis = 1 menunjukkan baris, jadi nilai terendah dalam seluruh baris akan dicetak melalui perintah dibawah ini.\n",
    "print(d)"
   ]
  },
  {
   "cell_type": "code",
   "execution_count": 78,
   "id": "09d895da",
   "metadata": {},
   "outputs": [
    {
     "name": "stdout",
     "output_type": "stream",
     "text": [
      "12\n"
     ]
    }
   ],
   "source": [
    "e = np.max(a)\n",
    "#fungsi max adalah untuk mencari nilai terbesar dari suatu matriks\n",
    "#jadi disini nilai terbesar di dalam matriks a adalah 12.\n",
    "print(e)"
   ]
  },
  {
   "cell_type": "code",
   "execution_count": 79,
   "id": "1be70b22",
   "metadata": {},
   "outputs": [
    {
     "name": "stdout",
     "output_type": "stream",
     "text": [
      "[ 9 10 11 12]\n"
     ]
    }
   ],
   "source": [
    "f = np.max(a,axis=0)\n",
    "#axis = 0 menunjukkan kolom, jadi nilai terbesar dalam seluruh kolom akan dicetak melalui perintah dibawah ini.\n",
    "print(f)"
   ]
  },
  {
   "cell_type": "code",
   "execution_count": 80,
   "id": "2047d172",
   "metadata": {},
   "outputs": [
    {
     "name": "stdout",
     "output_type": "stream",
     "text": [
      "[ 4  8 12]\n"
     ]
    }
   ],
   "source": [
    "g = np.max(a,axis=1)\n",
    "#axis = 1 menunjukkan baris, jadi nilai terbesar dalam seluruh baris akan dicetak melalui perintah dibawah ini.\n",
    "print(g)"
   ]
  },
  {
   "cell_type": "code",
   "execution_count": 81,
   "id": "75fb7183",
   "metadata": {},
   "outputs": [
    {
     "name": "stdout",
     "output_type": "stream",
     "text": [
      "78\n"
     ]
    }
   ],
   "source": [
    "h = np.sum(a)\n",
    "#disini fungsi sum berfungsi untuk menjumlahkan seluruh anggota matriks.\n",
    "print(h)"
   ]
  },
  {
   "cell_type": "code",
   "execution_count": 82,
   "id": "137cf65a",
   "metadata": {},
   "outputs": [
    {
     "name": "stdout",
     "output_type": "stream",
     "text": [
      "[15 18 21 24]\n"
     ]
    }
   ],
   "source": [
    "i = np.sum(a,axis=0)\n",
    "#dari axis = 0, berarti akan dijumlahkan setiap kolomnya dan dicetak melalui perintah dibawah ini.\n",
    "print(i)"
   ]
  },
  {
   "cell_type": "code",
   "execution_count": 83,
   "id": "20bca6ab",
   "metadata": {},
   "outputs": [
    {
     "name": "stdout",
     "output_type": "stream",
     "text": [
      "[10 26 42]\n"
     ]
    }
   ],
   "source": [
    "j = np.sum(a,axis=1)\n",
    "#dari axis = 1, berarti akan dijumlahkan setiap barisnya dan dicetak melalui perintah dibawah ini.\n",
    "print(j)"
   ]
  },
  {
   "cell_type": "markdown",
   "id": "b20bc26c",
   "metadata": {},
   "source": [
    "# Terimakasih :)"
   ]
  }
 ],
 "metadata": {
  "kernelspec": {
   "display_name": "Python 3 (ipykernel)",
   "language": "python",
   "name": "python3"
  },
  "language_info": {
   "codemirror_mode": {
    "name": "ipython",
    "version": 3
   },
   "file_extension": ".py",
   "mimetype": "text/x-python",
   "name": "python",
   "nbconvert_exporter": "python",
   "pygments_lexer": "ipython3",
   "version": "3.9.13"
  }
 },
 "nbformat": 4,
 "nbformat_minor": 5
}
