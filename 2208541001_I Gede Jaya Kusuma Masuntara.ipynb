{
 "cells": [
  {
   "cell_type": "markdown",
   "id": "6831554c",
   "metadata": {},
   "source": [
    "# Print"
   ]
  },
  {
   "cell_type": "code",
   "execution_count": 1,
   "id": "dc69e7e8",
   "metadata": {},
   "outputs": [
    {
     "name": "stdout",
     "output_type": "stream",
     "text": [
      "Hello World\n"
     ]
    }
   ],
   "source": [
    "print (\"Hello World\")"
   ]
  },
  {
   "cell_type": "code",
   "execution_count": 2,
   "id": "ddfa87c6",
   "metadata": {},
   "outputs": [
    {
     "name": "stdout",
     "output_type": "stream",
     "text": [
      "Hello World\n"
     ]
    }
   ],
   "source": [
    "print ('Hello World')"
   ]
  },
  {
   "cell_type": "code",
   "execution_count": 3,
   "id": "e3bba891",
   "metadata": {},
   "outputs": [
    {
     "ename": "SyntaxError",
     "evalue": "EOL while scanning string literal (3105138750.py, line 1)",
     "output_type": "error",
     "traceback": [
      "\u001b[1;36m  File \u001b[1;32m\"C:\\Users\\asusp\\AppData\\Local\\Temp\\ipykernel_8512\\3105138750.py\"\u001b[1;36m, line \u001b[1;32m1\u001b[0m\n\u001b[1;33m    print (\"Hello World')\u001b[0m\n\u001b[1;37m                         ^\u001b[0m\n\u001b[1;31mSyntaxError\u001b[0m\u001b[1;31m:\u001b[0m EOL while scanning string literal\n"
     ]
    }
   ],
   "source": [
    "print (\"Hello World')\n",
    "#tidak bisa dijalankan karena harus menggunakan tanda prtik yang sama di depan dan di belakang."
   ]
  },
  {
   "cell_type": "code",
   "execution_count": 4,
   "id": "03a87410",
   "metadata": {},
   "outputs": [
    {
     "ename": "NameError",
     "evalue": "name 'Print' is not defined",
     "output_type": "error",
     "traceback": [
      "\u001b[1;31m---------------------------------------------------------------------------\u001b[0m",
      "\u001b[1;31mNameError\u001b[0m                                 Traceback (most recent call last)",
      "\u001b[1;32m~\\AppData\\Local\\Temp\\ipykernel_8512\\2357667468.py\u001b[0m in \u001b[0;36m<module>\u001b[1;34m\u001b[0m\n\u001b[1;32m----> 1\u001b[1;33m \u001b[0mPrint\u001b[0m \u001b[1;33m(\u001b[0m\u001b[1;34m\"Hello World\"\u001b[0m\u001b[1;33m)\u001b[0m\u001b[1;33m\u001b[0m\u001b[1;33m\u001b[0m\u001b[0m\n\u001b[0m",
      "\u001b[1;31mNameError\u001b[0m: name 'Print' is not defined"
     ]
    }
   ],
   "source": [
    "Print (\"Hello World\")\n",
    "#error karena perintah 'Print' seharusnya menggunakan huruf kecil semua."
   ]
  },
  {
   "cell_type": "code",
   "execution_count": 5,
   "id": "518188de",
   "metadata": {},
   "outputs": [
    {
     "ename": "SyntaxError",
     "evalue": "EOL while scanning string literal (4141951073.py, line 1)",
     "output_type": "error",
     "traceback": [
      "\u001b[1;36m  File \u001b[1;32m\"C:\\Users\\asusp\\AppData\\Local\\Temp\\ipykernel_8512\\4141951073.py\"\u001b[1;36m, line \u001b[1;32m1\u001b[0m\n\u001b[1;33m    print (\"Hello World\"')\u001b[0m\n\u001b[1;37m                          ^\u001b[0m\n\u001b[1;31mSyntaxError\u001b[0m\u001b[1;31m:\u001b[0m EOL while scanning string literal\n"
     ]
    }
   ],
   "source": [
    "print (\"Hello World\"')\n",
    "#error karena kelebihan tanda petik di akhir atau kurangnya tanda petik untuk menutupi tanda petik terakhir."
   ]
  },
  {
   "cell_type": "code",
   "execution_count": 6,
   "id": "61d3c68c",
   "metadata": {},
   "outputs": [
    {
     "ename": "SyntaxError",
     "evalue": "invalid syntax (1324178492.py, line 1)",
     "output_type": "error",
     "traceback": [
      "\u001b[1;36m  File \u001b[1;32m\"C:\\Users\\asusp\\AppData\\Local\\Temp\\ipykernel_8512\\1324178492.py\"\u001b[1;36m, line \u001b[1;32m1\u001b[0m\n\u001b[1;33m    print ('Let's Eat')\u001b[0m\n\u001b[1;37m                ^\u001b[0m\n\u001b[1;31mSyntaxError\u001b[0m\u001b[1;31m:\u001b[0m invalid syntax\n"
     ]
    }
   ],
   "source": [
    "print ('Let's Eat')\n",
    "#untuk kata seperti ini, sebaiknya tanda petik dikombinasikan agar katanya bisa dideteksi."
   ]
  },
  {
   "cell_type": "code",
   "execution_count": 7,
   "id": "4e9dd9e4",
   "metadata": {},
   "outputs": [
    {
     "name": "stdout",
     "output_type": "stream",
     "text": [
      "Let's Eat\n"
     ]
    }
   ],
   "source": [
    "print (\"Let's Eat\")"
   ]
  },
  {
   "cell_type": "code",
   "execution_count": 8,
   "id": "8fe18317",
   "metadata": {},
   "outputs": [
    {
     "name": "stdout",
     "output_type": "stream",
     "text": [
      "39\n",
      "0\n",
      "0\n"
     ]
    }
   ],
   "source": [
    "riandika_01 = 39\n",
    "ukt_riandika_01 = 0\n",
    "print(riandika_01)\n",
    "print(ukt_riandika_01)\n",
    "print(riandika_01*ukt_riandika_01)"
   ]
  },
  {
   "cell_type": "code",
   "execution_count": 9,
   "id": "cb801806",
   "metadata": {},
   "outputs": [
    {
     "data": {
      "text/plain": [
       "39"
      ]
     },
     "execution_count": 9,
     "metadata": {},
     "output_type": "execute_result"
    }
   ],
   "source": [
    "riandika_01"
   ]
  },
  {
   "cell_type": "code",
   "execution_count": 10,
   "id": "cdaeed53",
   "metadata": {},
   "outputs": [
    {
     "ename": "NameError",
     "evalue": "name 'riandika' is not defined",
     "output_type": "error",
     "traceback": [
      "\u001b[1;31m---------------------------------------------------------------------------\u001b[0m",
      "\u001b[1;31mNameError\u001b[0m                                 Traceback (most recent call last)",
      "\u001b[1;32m~\\AppData\\Local\\Temp\\ipykernel_8512\\3679321274.py\u001b[0m in \u001b[0;36m<module>\u001b[1;34m\u001b[0m\n\u001b[1;32m----> 1\u001b[1;33m \u001b[0mriandika\u001b[0m\u001b[1;33m\u001b[0m\u001b[1;33m\u001b[0m\u001b[0m\n\u001b[0m",
      "\u001b[1;31mNameError\u001b[0m: name 'riandika' is not defined"
     ]
    }
   ],
   "source": [
    "riandika\n",
    "#tidak ada variabel 'riandika'"
   ]
  },
  {
   "cell_type": "code",
   "execution_count": 29,
   "id": "29255ba3",
   "metadata": {},
   "outputs": [
    {
     "name": "stdout",
     "output_type": "stream",
     "text": [
      "Jaya Kusuma Masuntara\n"
     ]
    }
   ],
   "source": [
    "Nama_depan_01 = 'Jaya'\n",
    "Nama_tengah_01 = 'Kusuma'\n",
    "Nama_belakang_01 = 'Masuntara'\n",
    "print(Nama_depan_01 +' '+ Nama_tengah_01 +' '+ Nama_belakang_01)"
   ]
  },
  {
   "cell_type": "code",
   "execution_count": 30,
   "id": "33ba22e3",
   "metadata": {},
   "outputs": [
    {
     "data": {
      "text/plain": [
       "'Kusuma'"
      ]
     },
     "execution_count": 30,
     "metadata": {},
     "output_type": "execute_result"
    }
   ],
   "source": [
    "Nama_tengah_01"
   ]
  },
  {
   "cell_type": "markdown",
   "id": "a9a7660f",
   "metadata": {},
   "source": [
    "# Input"
   ]
  },
  {
   "cell_type": "code",
   "execution_count": 13,
   "id": "61dfad2f",
   "metadata": {},
   "outputs": [
    {
     "name": "stdout",
     "output_type": "stream",
     "text": [
      "Input Nama Anda:Jaya\n",
      "Halo Jaya\n"
     ]
    }
   ],
   "source": [
    "nama = input(\"Input Nama Anda:\")\n",
    "print(\"Halo\"+' '+ nama)"
   ]
  },
  {
   "cell_type": "code",
   "execution_count": 14,
   "id": "6ef4a4ec",
   "metadata": {},
   "outputs": [
    {
     "name": "stdout",
     "output_type": "stream",
     "text": [
      "Silahkan Input Nama Anda:Jackson\n",
      "Hallo Jackson\n"
     ]
    }
   ],
   "source": [
    "nama = input(\"Silahkan Input Nama Anda:\")\n",
    "print(\"Hallo\"+' '+nama)"
   ]
  },
  {
   "cell_type": "code",
   "execution_count": 15,
   "id": "cee41406",
   "metadata": {},
   "outputs": [
    {
     "name": "stdout",
     "output_type": "stream",
     "text": [
      "Jackson\n"
     ]
    }
   ],
   "source": [
    "print(nama)\n",
    "#menampilkan variabel 'nama' terakhir yang diinput."
   ]
  },
  {
   "cell_type": "markdown",
   "id": "5cca2999",
   "metadata": {},
   "source": [
    "# Tipe Data"
   ]
  },
  {
   "cell_type": "code",
   "execution_count": 16,
   "id": "8cd5bf2a",
   "metadata": {},
   "outputs": [
    {
     "name": "stdout",
     "output_type": "stream",
     "text": [
      "Uang di dompet saya adalah 2000\n",
      "Uang di tabungan saya adalah 3000000\n",
      "Total uang saya adalah3002000\n"
     ]
    }
   ],
   "source": [
    "dompet_01 = input(\"Uang di dompet saya adalah \")\n",
    "tabungan_01 = input(\"Uang di tabungan saya adalah \")\n",
    "jumlah_01 = int(dompet_01) + int(tabungan_01)\n",
    "print(\"Total uang saya adalah\" + str(jumlah_01))"
   ]
  },
  {
   "cell_type": "code",
   "execution_count": 17,
   "id": "61e656df",
   "metadata": {},
   "outputs": [
    {
     "data": {
      "text/plain": [
       "str"
      ]
     },
     "execution_count": 17,
     "metadata": {},
     "output_type": "execute_result"
    }
   ],
   "source": [
    "type (dompet_01)"
   ]
  },
  {
   "cell_type": "code",
   "execution_count": 18,
   "id": "bbc26e19",
   "metadata": {},
   "outputs": [
    {
     "data": {
      "text/plain": [
       "str"
      ]
     },
     "execution_count": 18,
     "metadata": {},
     "output_type": "execute_result"
    }
   ],
   "source": [
    "type (tabungan_01)"
   ]
  },
  {
   "cell_type": "code",
   "execution_count": 19,
   "id": "1c7d1995",
   "metadata": {},
   "outputs": [
    {
     "data": {
      "text/plain": [
       "int"
      ]
     },
     "execution_count": 19,
     "metadata": {},
     "output_type": "execute_result"
    }
   ],
   "source": [
    "type (jumlah_01)"
   ]
  },
  {
   "cell_type": "code",
   "execution_count": 20,
   "id": "6f8cb421",
   "metadata": {},
   "outputs": [
    {
     "name": "stdout",
     "output_type": "stream",
     "text": [
      "Uang di dompet saya adalah 100\n",
      "Uang di tabungan saya adalah 230\n",
      "Total uang saya adalah 330\n"
     ]
    }
   ],
   "source": [
    "Jackson = input(\"Uang di dompet saya adalah \")\n",
    "Jason = input(\"Uang di tabungan saya adalah \")\n",
    "Julian = int(Jackson) + int(Jason)\n",
    "print(\"Total uang saya adalah \" + str(Julian))"
   ]
  },
  {
   "cell_type": "code",
   "execution_count": 26,
   "id": "3fe73394",
   "metadata": {},
   "outputs": [
    {
     "name": "stdout",
     "output_type": "stream",
     "text": [
      "Panjang Persegi Panjang 3\n",
      "Lebar Persegi Panjang 5\n",
      "Luas Persegi Panjang Tersebut Adalah 15.0\n"
     ]
    }
   ],
   "source": [
    "panjang_01 = input(\"Panjang Persegi Panjang \")\n",
    "lebar_01 = input(\"Lebar Persegi Panjang \")\n",
    "luas_01 = float(panjang_01) * float(lebar_01)\n",
    "print(\"Luas Persegi Panjang Tersebut Adalah \" + str(luas_01))\n",
    "#terdapat koma karena menggunakan tipe data float yang dimana tipe data float merupakan bilangan riil."
   ]
  },
  {
   "cell_type": "code",
   "execution_count": 27,
   "id": "10305887",
   "metadata": {},
   "outputs": [
    {
     "name": "stdout",
     "output_type": "stream",
     "text": [
      "Panjang Persegi Panjang 3\n",
      "Lebar Persegi Panjang 6\n",
      "Luas Persegi Panjang Tersebut Adalah 18.0\n"
     ]
    }
   ],
   "source": [
    "panjang_01 = input(\"Panjang Persegi Panjang \")\n",
    "lebar_01 = input(\"Lebar Persegi Panjang \")\n",
    "luas_01 = int(panjang_01) * float(lebar_01)\n",
    "print(\"Luas Persegi Panjang Tersebut Adalah \" + str(luas_01))\n",
    "#tetap terdapat koma karena hanya satu saja yang diganti menjadi tipe data int."
   ]
  },
  {
   "cell_type": "code",
   "execution_count": 28,
   "id": "e229460c",
   "metadata": {},
   "outputs": [
    {
     "name": "stdout",
     "output_type": "stream",
     "text": [
      "Panjang Persegi Panjang 3\n",
      "Lebar Persegi Panjang 9\n",
      "Luas Persegi Panjang Tersebut Adalah 27\n"
     ]
    }
   ],
   "source": [
    "panjang_01 = input(\"Panjang Persegi Panjang \")\n",
    "lebar_01 = input(\"Lebar Persegi Panjang \")\n",
    "luas_01 = int(panjang_01) * int(lebar_01)\n",
    "print(\"Luas Persegi Panjang Tersebut Adalah \" + str(luas_01))"
   ]
  },
  {
   "cell_type": "code",
   "execution_count": 32,
   "id": "90c0d5b2",
   "metadata": {},
   "outputs": [
    {
     "data": {
      "text/plain": [
       "bool"
      ]
     },
     "execution_count": 32,
     "metadata": {},
     "output_type": "execute_result"
    }
   ],
   "source": [
    "aku = True\n",
    "kamu = False\n",
    "type (aku)"
   ]
  },
  {
   "cell_type": "code",
   "execution_count": 33,
   "id": "b610524c",
   "metadata": {},
   "outputs": [
    {
     "data": {
      "text/plain": [
       "bool"
      ]
     },
     "execution_count": 33,
     "metadata": {},
     "output_type": "execute_result"
    }
   ],
   "source": [
    "type (kamu)"
   ]
  },
  {
   "cell_type": "markdown",
   "id": "18544db1",
   "metadata": {},
   "source": [
    "# Formatted String"
   ]
  },
  {
   "cell_type": "code",
   "execution_count": 21,
   "id": "b765385a",
   "metadata": {},
   "outputs": [
    {
     "name": "stdout",
     "output_type": "stream",
     "text": [
      "Robert Downey Jr Adalah Seorang Aktor di Marvel Studios.\n"
     ]
    }
   ],
   "source": [
    "nama = \"Robert Downey Jr\"\n",
    "pekerjaan = \"Aktor\"\n",
    "institusi = \"Marvel Studios\"\n",
    "print(nama + ' Adalah Seorang' +' '+ pekerjaan +' '+ 'di'+' ' + institusi + '.')"
   ]
  },
  {
   "cell_type": "code",
   "execution_count": 22,
   "id": "068cbd5c",
   "metadata": {},
   "outputs": [
    {
     "ename": "NameError",
     "evalue": "name 'intuisi' is not defined",
     "output_type": "error",
     "traceback": [
      "\u001b[1;31m---------------------------------------------------------------------------\u001b[0m",
      "\u001b[1;31mNameError\u001b[0m                                 Traceback (most recent call last)",
      "\u001b[1;32m~\\AppData\\Local\\Temp\\ipykernel_8512\\4282980041.py\u001b[0m in \u001b[0;36m<module>\u001b[1;34m\u001b[0m\n\u001b[1;32m----> 1\u001b[1;33m \u001b[0mprint\u001b[0m\u001b[1;33m(\u001b[0m\u001b[1;34mf\"{nama} Is An {pekerjaan} At {intuisi}.\"\u001b[0m\u001b[1;33m)\u001b[0m\u001b[1;33m\u001b[0m\u001b[1;33m\u001b[0m\u001b[0m\n\u001b[0m",
      "\u001b[1;31mNameError\u001b[0m: name 'intuisi' is not defined"
     ]
    }
   ],
   "source": [
    "print(f\"{nama} Is An {pekerjaan} At {intuisi}.\")\n",
    "#salah mengetik nama variabel."
   ]
  },
  {
   "cell_type": "code",
   "execution_count": 23,
   "id": "dd660e7f",
   "metadata": {},
   "outputs": [
    {
     "name": "stdout",
     "output_type": "stream",
     "text": [
      "Robert Downey Jr Is An Aktor At Marvel Studios.\n"
     ]
    }
   ],
   "source": [
    "print(f\"{nama} Is An {pekerjaan} At {institusi}.\")"
   ]
  },
  {
   "cell_type": "code",
   "execution_count": 24,
   "id": "2eb417cc",
   "metadata": {},
   "outputs": [
    {
     "ename": "NameError",
     "evalue": "name 'aktor' is not defined",
     "output_type": "error",
     "traceback": [
      "\u001b[1;31m---------------------------------------------------------------------------\u001b[0m",
      "\u001b[1;31mNameError\u001b[0m                                 Traceback (most recent call last)",
      "\u001b[1;32m~\\AppData\\Local\\Temp\\ipykernel_8512\\3058359977.py\u001b[0m in \u001b[0;36m<module>\u001b[1;34m\u001b[0m\n\u001b[1;32m----> 1\u001b[1;33m \u001b[0mprint\u001b[0m\u001b[1;33m(\u001b[0m\u001b[1;34mf'{aktor} Yang Bernama {nama} sedang shooting film di {institusi}.'\u001b[0m \u001b[1;33m)\u001b[0m\u001b[1;33m\u001b[0m\u001b[1;33m\u001b[0m\u001b[0m\n\u001b[0m",
      "\u001b[1;31mNameError\u001b[0m: name 'aktor' is not defined"
     ]
    }
   ],
   "source": [
    "print(f'{aktor} Yang Bernama {nama} sedang shooting film di {institusi}.' )\n",
    "#salah nama variabel lagi :("
   ]
  },
  {
   "cell_type": "code",
   "execution_count": 25,
   "id": "4c286787",
   "metadata": {},
   "outputs": [
    {
     "name": "stdout",
     "output_type": "stream",
     "text": [
      "Aktor Yang Bernama Robert Downey Jr sedang shooting film di Marvel Studios.\n"
     ]
    }
   ],
   "source": [
    "print(f'{pekerjaan} Yang Bernama {nama} sedang shooting film di {institusi}.' )"
   ]
  },
  {
   "cell_type": "code",
   "execution_count": 35,
   "id": "0a5df3a9",
   "metadata": {},
   "outputs": [
    {
     "name": "stdout",
     "output_type": "stream",
     "text": [
      "Marcus Rashford Adalah Seorang Pemain Sepakbola di Klub Manchester United Yang Berposisi Sebagai Penyerang.\n"
     ]
    }
   ],
   "source": [
    "Player_01 = \"Marcus Rashford\"\n",
    "Club_01 = \"Manchester United\"\n",
    "Position_01 = \"Penyerang\"\n",
    "print(f\"{Player_01} Adalah Seorang Pemain Sepakbola di Klub {Club_01} Yang Berposisi Sebagai {Position_01}.\")"
   ]
  },
  {
   "cell_type": "code",
   "execution_count": 36,
   "id": "7022a133",
   "metadata": {},
   "outputs": [
    {
     "name": "stdout",
     "output_type": "stream",
     "text": [
      "Marcus Rashford\n"
     ]
    }
   ],
   "source": [
    "print(Player_01)"
   ]
  }
 ],
 "metadata": {
  "kernelspec": {
   "display_name": "Python 3 (ipykernel)",
   "language": "python",
   "name": "python3"
  },
  "language_info": {
   "codemirror_mode": {
    "name": "ipython",
    "version": 3
   },
   "file_extension": ".py",
   "mimetype": "text/x-python",
   "name": "python",
   "nbconvert_exporter": "python",
   "pygments_lexer": "ipython3",
   "version": "3.9.13"
  }
 },
 "nbformat": 4,
 "nbformat_minor": 5
}
