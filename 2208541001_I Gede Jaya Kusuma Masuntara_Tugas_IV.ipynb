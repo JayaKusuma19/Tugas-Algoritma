{
 "cells": [
  {
   "cell_type": "markdown",
   "id": "02336b30",
   "metadata": {},
   "source": [
    "# 5.11 While Loop"
   ]
  },
  {
   "cell_type": "code",
   "execution_count": 1,
   "id": "0a4c03ba",
   "metadata": {},
   "outputs": [
    {
     "name": "stdout",
     "output_type": "stream",
     "text": [
      "0\n"
     ]
    }
   ],
   "source": [
    "#'While' adalah sebuah fungsi dang biasanya digunakan sebgai fungsi perulangan.\n",
    "#perulangan ini dimaksukan sebagai, jika syarat dalam 'while' dipenuhi maka akan dimasukkan kedalam fungsi yang ada.\n",
    "#fungsi akan terus berjalan sampai mencapai batas 'while' yang ada.\n",
    "\n",
    "#contoh codingan\n",
    "x = 0\n",
    "while x > 2 :\n",
    "    y = x**2\n",
    "    x = x-1\n",
    "print(x)\n",
    "\n",
    "#karena x = 0, dan pada fungsi 'while' x lebih besar dari dua adalah salah,\n",
    "#maka tidak dimasukkan kedalam fungsi, namun langsung dicetak pada perintah 'print'.\n",
    "\n",
    "################################################\n",
    "#Berikut adalah keluaran dari codingan tersebut\n",
    "################################################"
   ]
  },
  {
   "cell_type": "code",
   "execution_count": 2,
   "id": "ae3057bd",
   "metadata": {},
   "outputs": [
    {
     "name": "stdout",
     "output_type": "stream",
     "text": [
      "1\n",
      "2\n",
      "3\n",
      "4\n",
      "5\n",
      "6\n"
     ]
    }
   ],
   "source": [
    "#contoh codingan kedua\n",
    "a = 1\n",
    "#disini 'a' sama dengan 1\n",
    "while 1<=a<7:\n",
    "#while(saat) 1 kurang dari sama dengan a dan a kurang dari 7,\n",
    "    print(a)\n",
    "#maka cetaklah 'a'\n",
    "    a+=1\n",
    "#dengan 'a' ditambahkan 1 setiap pengulangannya.\n",
    "\n",
    "#untuk inputan a pertama digunakan inputan pertama yakni 1\n",
    "#karena 1 sama dengan 1 dan kurang dari 7, maka 1 dicetak pada perintah print.\n",
    "#kemudian 1 tersebut ditambahkan dengan 1 sesuai perintah \"a+=1\"\n",
    "\n",
    "#inputan kedua menjadi 2\n",
    "#karena 2 lebih dari 1 dan 2 kurang dari 7, maka 2 dicetak pada perintah print.\n",
    "#kemudian 2 tersebut ditambahkan dengan 1 sesuai perintah \"a+=1\"\n",
    "#begitu seterusnya sampai syarat pada fungsi while tidak dapat dipenuhi lagi.\n",
    "#inputan terakhir adalah 6, karena bilangan setelah 6 yaitu 7 tidak kurang dari 7.\n",
    "\n",
    "###############################################\n",
    "#Berikut adalah keluaran dari codingan tersebut\n",
    "###############################################"
   ]
  },
  {
   "cell_type": "code",
   "execution_count": null,
   "id": "9ecaabce",
   "metadata": {},
   "outputs": [],
   "source": [
    "#berikutnya ada contoh menarik.\n",
    "x = 0\n",
    "#dideklarasikan x = 0\n",
    "while x < 2 :\n",
    "#saat x kurang dari 2 dimasukkan kedalam fungsi di bawah ini.\n",
    "    y = x**2\n",
    "    x = x-1\n",
    "#kemudian cetaklah x\n",
    "print(x)\n",
    "\n",
    "#inputan pertama yaitu 0, karena 0 lebih kecil dari 2 maka 0 dimasukkan kedalam fungsi. \n",
    "#untuk y = 0 pangkat 2 menghasilkan 0. kemudian 0 dimasukkan kedalam x = x-1 mendapatkan hasil -1\n",
    "#karena perintah print maka -1 dicetak, kemudian -1 dimasukkan lagi kedalam while\n",
    "#karena -1 lebih kecil dari 2 maka dimasukanlah kedalam fungsi.\n",
    "#setelah melalui fungsi didapatlah hasil dari x adalah 0 yang artinya kembali ke inputan pertama,\n",
    "#ini akan berlangsung terus menerus karena tidak ada batasnya, maka terdapat tanda bintang di samping \"In []\"\n",
    "#ini merupakan contoh yang menarik bagi saya"
   ]
  },
  {
   "cell_type": "markdown",
   "id": "86187542",
   "metadata": {},
   "source": [
    "# 5.12 List di Python"
   ]
  },
  {
   "cell_type": "code",
   "execution_count": 3,
   "id": "1ae87433",
   "metadata": {},
   "outputs": [
    {
     "name": "stdout",
     "output_type": "stream",
     "text": [
      "['RRQ', 'Evos', 'Bigetron', 'Alter Ego']\n",
      "RRQ\n",
      "Evos\n",
      "Alter Ego\n",
      "Bigetron\n",
      "['RRQ', 'Evos', 'Bigetron']\n"
     ]
    }
   ],
   "source": [
    "#berikut adalah sebuah variabel dengan fungsi 'list' yang bertipe data 'stringe'.\n",
    "esport = [ 'RRQ' , 'Evos' , 'Bigetron' , 'Alter Ego']\n",
    "\n",
    "#berikut adalah sebuah perintah untuk menampilkan 'list' dari variabel 'esport'.\n",
    "print(esport)\n",
    "\n",
    "#untuk menunjukkan data pertama dari sebuah 'list' dapat menggunakan perintah sebagai berikut.\n",
    "print(esport[0])\n",
    "\n",
    "#untuk menunjukkan data yang diinginkan tinggal kurangkan 1 dari data yang ingin ditampiklan.\n",
    "#contohnya sebagai berikut, disini saya ingin mencetak data kedua.\n",
    "#artinya 2-1 = 1, maka perintahnya sebagai berikut :\n",
    "print(esport[1])\n",
    "\n",
    "#untuk menunjukkan data terakhir dari suatu 'list' dapat menggunakan -1 pada perintah 'print'.\n",
    "print(esport[-1])\n",
    "\n",
    "#untuk menunjukkan data yang dimulai dari akhir, tinggal kurangkan dengan 1.\n",
    "#sebagai contoh, disini saya ingin menunjukkan data kedua terakhir dari 'list' ini,\n",
    "#jadi kita gunakan -1-1 = -2, dengan perintah sebagai berikut :\n",
    "print(esport[-2])\n",
    "\n",
    "#berikut adalah perintah untuk mencetak 'list' dari urutan ke berapa sampai ke berapa yang kita mau.\n",
    "print(esport[0:3])\n"
   ]
  },
  {
   "cell_type": "code",
   "execution_count": 4,
   "id": "717efd45",
   "metadata": {},
   "outputs": [
    {
     "name": "stdout",
     "output_type": "stream",
     "text": [
      "['Rebellion', 'Evos', 'Bigetron', 'Alter Ego']\n",
      "['Rebellion', 'Evos', 'Bigetron', 'Alter Ego']\n"
     ]
    }
   ],
   "source": [
    "#disini adalah perintah untuk merubah anggota dari 'list'.\n",
    "esport[0] = 'Rebellion'\n",
    "print(esport)\n",
    "#list pertama yang awalnya adalah 'RRQ' diganti dengan 'Rebellion' sesuai data yang diinput.\n",
    "\n",
    "#karena sudah dirubah, maka ketika akan mencetak anggota dari 'list' tersebut,\n",
    "#yang akan dicetak adalah 'list' yang telah dirubah.\n",
    "print(esport)"
   ]
  },
  {
   "cell_type": "markdown",
   "id": "524e95e4",
   "metadata": {},
   "source": [
    "# 5.13 Metoda List"
   ]
  },
  {
   "cell_type": "code",
   "execution_count": 5,
   "id": "31d81f6b",
   "metadata": {},
   "outputs": [
    {
     "name": "stdout",
     "output_type": "stream",
     "text": [
      "['Beatrix', 'Claude', 'Dyrroth', 'Estes']\n"
     ]
    }
   ],
   "source": [
    "#berikut ini adalah coding untuk menambahkan anggota dalam sebuah 'list'.\n",
    "hero_01 = [ 'Beatrix' , 'Claude' , 'Dyrroth']\n",
    "hero_01.append('Estes')\n",
    "print(hero_01)"
   ]
  },
  {
   "cell_type": "code",
   "execution_count": 6,
   "id": "3f22b40a",
   "metadata": {},
   "outputs": [
    {
     "name": "stdout",
     "output_type": "stream",
     "text": [
      "['Aulus', 'Beatrix', 'Claude', 'Dyrroth', 'Estes']\n"
     ]
    }
   ],
   "source": [
    "#dalam coding ini adalah untuk menambahkan anggota kedalam 'list' sesuai dengan urutan yang diinginkan.\n",
    "hero_01.insert(0,'Aulus')\n",
    "#disini 'Aulus' akan ditambahkan kedalam urutan ke-0 atau yang pertama.\n",
    "print(hero_01)"
   ]
  },
  {
   "cell_type": "code",
   "execution_count": 7,
   "id": "cad5c568",
   "metadata": {},
   "outputs": [
    {
     "name": "stdout",
     "output_type": "stream",
     "text": [
      "['Aulus', 'Beatrix', 'Dyrroth', 'Estes']\n"
     ]
    }
   ],
   "source": [
    "#berikut adalah cara menghapus anggota didalam suatu 'list'.\n",
    "hero_01.remove('Claude')\n",
    "print(hero_01)"
   ]
  },
  {
   "cell_type": "code",
   "execution_count": 8,
   "id": "a3bfd00f",
   "metadata": {},
   "outputs": [
    {
     "name": "stdout",
     "output_type": "stream",
     "text": [
      "False\n"
     ]
    }
   ],
   "source": [
    "#ini adalah perintah untuk mengecek apakah terdapat suatu anggota tertentu pada sebuah 'list'.\n",
    "#walaupun 'Claude' terdapat dalam inputan pertama, namun karena pada inputan terakhir 'Claude'\n",
    "#sudah di 'remove' maka 'Claude' sudah tidak terdapat di dalam 'list' ini.\n",
    "print('Claude' in hero_01)"
   ]
  },
  {
   "cell_type": "code",
   "execution_count": 9,
   "id": "a8c22b93",
   "metadata": {},
   "outputs": [
    {
     "name": "stdout",
     "output_type": "stream",
     "text": [
      "True\n"
     ]
    }
   ],
   "source": [
    "#sebagai pembanding, apabila kita mengecek suatu anggota yang terdapat dalam sebuah 'list',\n",
    "#maka output yang keluar akan 'True'.\n",
    "print('Beatrix' in hero_01)"
   ]
  },
  {
   "cell_type": "code",
   "execution_count": 10,
   "id": "3305b775",
   "metadata": {},
   "outputs": [
    {
     "name": "stdout",
     "output_type": "stream",
     "text": [
      "4\n"
     ]
    }
   ],
   "source": [
    "#code untuk mengetahui jumlah anggota suatu 'list'.\n",
    "print(len(hero_01))"
   ]
  },
  {
   "cell_type": "markdown",
   "id": "b83c96af",
   "metadata": {},
   "source": [
    "# 5.14 For Loop"
   ]
  },
  {
   "cell_type": "code",
   "execution_count": 11,
   "id": "6e7575f0",
   "metadata": {},
   "outputs": [
    {
     "name": "stdout",
     "output_type": "stream",
     "text": [
      "Manggis\n",
      "Durian\n",
      "Salak\n",
      "Jeruk\n"
     ]
    }
   ],
   "source": [
    "#perulangan for pada python digunakan untuk memanggil semua isi pada 'list'.\n",
    "buah = ['Manggis' , 'Durian' , 'Salak' , 'Jeruk']\n",
    "for jenis in buah:\n",
    "#disini for loop dideklarasikan dengan nama 'jenis'\n",
    "# boleh mendeklarasikan perulangan for dengan nama apapun #\n",
    "    print(jenis)"
   ]
  },
  {
   "cell_type": "code",
   "execution_count": 12,
   "id": "932a28ec",
   "metadata": {},
   "outputs": [
    {
     "name": "stdout",
     "output_type": "stream",
     "text": [
      "Manggis\n",
      "Durian\n",
      "Salak\n",
      "Jeruk\n"
     ]
    }
   ],
   "source": [
    "#disini menggunakan contoh i =0\n",
    "i = 0\n",
    "#saat i lebih kecil dari jumlah isi suatu 'list', akan terus diulaingi sampai kondisi while tidak terpenuhi.\n",
    "while i < len(buah):\n",
    "    print(buah[i])\n",
    "    i+=1"
   ]
  },
  {
   "cell_type": "code",
   "execution_count": 13,
   "id": "d3c9faea",
   "metadata": {},
   "outputs": [
    {
     "name": "stdout",
     "output_type": "stream",
     "text": [
      "Klasemen Atas atau Bawah Premier League : atas\n",
      "Tim ini adalah tim papan atas Premier League : \n",
      "- Manchester United\n",
      "- Arsenal\n",
      "- Manchester City\n",
      "- Newcastle United\n"
     ]
    }
   ],
   "source": [
    "#contoh lainnya \n",
    "timatas_01 = ['Manchester United' , 'Arsenal' , 'Manchester City', 'Newcastle United']\n",
    "timbwh_01 = ['Leicester City' , 'West Ham United' , 'Liverpool' , 'Chelsea']\n",
    "tim_01 = 0\n",
    "pick = input('Klasemen Atas atau Bawah Premier League : ' )\n",
    "if pick.upper() == 'ATAS' :\n",
    "    print('Tim ini adalah tim papan atas Premier League : ')\n",
    "    for tim_01 in timatas_01:\n",
    "        print('-' , tim_01)\n",
    "elif pick.upper() == 'BAWAH' :\n",
    "    print('Tim ini adalah tim papan bawah Premier League : ')\n",
    "    for tim_01 in timbwh_01 :\n",
    "        print('-' , tim_01)\n",
    "else : print(\"Pilih dengan kata Atas atau Bawah saja\")"
   ]
  },
  {
   "cell_type": "code",
   "execution_count": 14,
   "id": "bd97b663",
   "metadata": {},
   "outputs": [
    {
     "name": "stdout",
     "output_type": "stream",
     "text": [
      "Upper atau Lower? : lower\n",
      "Tim ini ada di klasemen bawah : \n",
      "# Evos\n",
      "# AlterEgo\n",
      "# Rebellion\n",
      "# Aura\n",
      "Pilih satu tim favorit anda : evos\n",
      "e\n",
      "v\n",
      "o\n",
      "s\n",
      "Tim favorit anda adalah evos yang memiliki banyak huruf 4 buah\n"
     ]
    }
   ],
   "source": [
    "#contoh lainnya\n",
    "mplupper_01 = ['Onic' , 'RRQ' , 'Bigetron' , 'Geek']\n",
    "mpllower_01 = ['Evos' , 'AlterEgo' , 'Rebellion' , 'Aura']\n",
    "mpl_01 = 0\n",
    "pilih = input('Upper atau Lower? : ')\n",
    "if pilih.upper() == 'UPPER' :\n",
    "    print('Tim ini ada di klasemen atas : ')\n",
    "    for mpl_01 in mplupper_01 :\n",
    "        print('#' , mpl_01)\n",
    "    pilihtim = input('Pilih satu tim favorit anda : ')\n",
    "    i = 0\n",
    "    while i < len(pilihtim) :\n",
    "        print(pilihtim[i])\n",
    "        i+=1\n",
    "    print(\"Tim favorit anda adalah\" , pilihtim , \"yang memiliki banyak huruf\" , len(pilihtim), \"buah\")\n",
    "elif pilih.upper() == 'LOWER' :\n",
    "    print('Tim ini ada di klasemen bawah : ')\n",
    "    for mpl_01 in mpllower_01 :\n",
    "        print('#' , mpl_01)\n",
    "    pilihtim = input('Pilih satu tim favorit anda : ')\n",
    "    x = 0\n",
    "    while x < len(pilihtim) :\n",
    "        print(pilihtim[x])\n",
    "        x+=1\n",
    "    print(\"Tim favorit anda adalah\" , pilihtim , \"yang memiliki banyak huruf\" , len(pilihtim), \"buah\")\n",
    "else : print('DIMOHON UNTUK MEMASUKKAN UPPER ATAU LOWER SAJA BOSQUE')"
   ]
  },
  {
   "cell_type": "markdown",
   "id": "b1831b42",
   "metadata": {},
   "source": [
    "# 5.15 Fungsi Range"
   ]
  },
  {
   "cell_type": "code",
   "execution_count": 15,
   "id": "1317c25e",
   "metadata": {},
   "outputs": [
    {
     "name": "stdout",
     "output_type": "stream",
     "text": [
      "range(0, 6)\n"
     ]
    }
   ],
   "source": [
    "#daritadi kita menggunakan sebuah 'list'. Namun untuk sekarang kita tidak akan menggunakan 'list'.\n",
    "#jadi disini ada sebuah fungsi yang bernama 'range' yang bisa digunakan tanpa adanya sebuah 'list'.\n",
    "\n",
    "angka = range(6)\n",
    "print(angka)\n",
    "\n",
    "#disini karena kita menggunakan range () maka program akan menganggap dimulai dari 0,\n",
    "#jadi input yang akan dikeluarkan adalah sebagai berikut :"
   ]
  },
  {
   "cell_type": "code",
   "execution_count": 16,
   "id": "30f0bea4",
   "metadata": {},
   "outputs": [
    {
     "name": "stdout",
     "output_type": "stream",
     "text": [
      "0\n",
      "1\n",
      "2\n",
      "3\n",
      "4\n",
      "5\n",
      "6\n",
      "7\n",
      "8\n",
      "9\n",
      "10\n"
     ]
    }
   ],
   "source": [
    "for i in range(0,11):\n",
    "#jadi fungsi range disini akan membuat sebuah deretan angka mulai dari 0 sampai sebelum 11\n",
    "    print(i)\n",
    "#disini akan dicetak 'i' yang diambil dari semua komponen dari range diatas"
   ]
  },
  {
   "cell_type": "code",
   "execution_count": 17,
   "id": "40ed93c6",
   "metadata": {},
   "outputs": [
    {
     "name": "stdout",
     "output_type": "stream",
     "text": [
      "5\n",
      "6\n",
      "7\n",
      "8\n",
      "9\n"
     ]
    }
   ],
   "source": [
    "for isi in range(5,10):\n",
    "#fungsi range disini akan membuat sebuah deretan angka virtual mulai dari 5 sampai sebelum 10\n",
    "    print(isi)\n",
    "#disini akan dicetak 'isi' yang diambil dari semua komponen range diatas"
   ]
  },
  {
   "cell_type": "code",
   "execution_count": 18,
   "id": "becddd75",
   "metadata": {},
   "outputs": [
    {
     "name": "stdout",
     "output_type": "stream",
     "text": [
      "0\n",
      "2\n",
      "4\n",
      "6\n",
      "8\n",
      "10\n",
      "12\n",
      "14\n",
      "16\n",
      "18\n"
     ]
    }
   ],
   "source": [
    "for blabla in range(0,20,2):\n",
    "#fungsi range disini akan membuat sebuah deretan angka virtual yang dimulai dari 0 sampai kurang dari 20\n",
    "#karena terdapat angka ketiga atau 'c' dengan fungsi (a, b, c), maka angka tersebut akan menjadi 'increment',\n",
    "#'increment' adalah loncatan atau kelipatan.\n",
    "#jadi dalam fungsi range tersebut terdapat deretan angka virtual yang dimulai dari 0 sampai kurang dari 20 dengan \n",
    "#kelipatan 2.\n",
    "    print(blabla)\n",
    "#akan dicetak 'blabla' sesuai komponen range diatas :"
   ]
  }
 ],
 "metadata": {
  "kernelspec": {
   "display_name": "Python 3 (ipykernel)",
   "language": "python",
   "name": "python3"
  },
  "language_info": {
   "codemirror_mode": {
    "name": "ipython",
    "version": 3
   },
   "file_extension": ".py",
   "mimetype": "text/x-python",
   "name": "python",
   "nbconvert_exporter": "python",
   "pygments_lexer": "ipython3",
   "version": "3.9.13"
  }
 },
 "nbformat": 4,
 "nbformat_minor": 5
}
