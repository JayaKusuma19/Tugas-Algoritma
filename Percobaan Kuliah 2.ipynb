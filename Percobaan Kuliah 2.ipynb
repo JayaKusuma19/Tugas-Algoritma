{
 "cells": [
  {
   "cell_type": "code",
   "execution_count": 1,
   "id": "6313b78a",
   "metadata": {},
   "outputs": [
    {
     "name": "stdout",
     "output_type": "stream",
     "text": [
      "Ricardo Milos\n"
     ]
    }
   ],
   "source": [
    "print(\"Ricardo Milos\")"
   ]
  },
  {
   "cell_type": "code",
   "execution_count": 2,
   "id": "87cde370",
   "metadata": {},
   "outputs": [
    {
     "ename": "NameError",
     "evalue": "name 'Holla' is not defined",
     "output_type": "error",
     "traceback": [
      "\u001b[1;31m---------------------------------------------------------------------------\u001b[0m",
      "\u001b[1;31mNameError\u001b[0m                                 Traceback (most recent call last)",
      "\u001b[1;32m~\\AppData\\Local\\Temp\\ipykernel_1108\\1152434650.py\u001b[0m in \u001b[0;36m<module>\u001b[1;34m\u001b[0m\n\u001b[1;32m----> 1\u001b[1;33m \u001b[0mHolla\u001b[0m\u001b[1;33m\u001b[0m\u001b[1;33m\u001b[0m\u001b[0m\n\u001b[0m",
      "\u001b[1;31mNameError\u001b[0m: name 'Holla' is not defined"
     ]
    }
   ],
   "source": [
    "Holla"
   ]
  },
  {
   "cell_type": "code",
   "execution_count": 3,
   "id": "b80a68bf",
   "metadata": {},
   "outputs": [],
   "source": [
    "#manchester united vs cambodia dimenangkan oleh\n",
    "#el salvador dengan hole in one di lubang pertama \n",
    "#saat tim lawan menggunakan jersey polo terbaiknya."
   ]
  },
  {
   "cell_type": "markdown",
   "id": "3495ed27",
   "metadata": {},
   "source": [
    "# Indeks"
   ]
  },
  {
   "cell_type": "code",
   "execution_count": null,
   "id": "595079e6",
   "metadata": {},
   "outputs": [],
   "source": [
    "# kalimat = 'manchester united is the best club in football history'"
   ]
  },
  {
   "cell_type": "code",
   "execution_count": 5,
   "id": "1a0efb5b",
   "metadata": {},
   "outputs": [
    {
     "name": "stdout",
     "output_type": "stream",
     "text": [
      "c\n"
     ]
    }
   ],
   "source": [
    "print(kalimat[3])"
   ]
  },
  {
   "cell_type": "code",
   "execution_count": 6,
   "id": "72f5411d",
   "metadata": {},
   "outputs": [
    {
     "name": "stdout",
     "output_type": "stream",
     "text": [
      "manchester un\n"
     ]
    }
   ],
   "source": [
    "print(kalimat[0:13])"
   ]
  },
  {
   "cell_type": "code",
   "execution_count": 7,
   "id": "f4586de2",
   "metadata": {},
   "outputs": [
    {
     "name": "stdout",
     "output_type": "stream",
     "text": [
      "an\n"
     ]
    }
   ],
   "source": [
    "print(kalimat[1:3])"
   ]
  },
  {
   "cell_type": "code",
   "execution_count": 8,
   "id": "9dd50d07",
   "metadata": {},
   "outputs": [
    {
     "data": {
      "text/plain": [
       "'y'"
      ]
     },
     "execution_count": 8,
     "metadata": {},
     "output_type": "execute_result"
    }
   ],
   "source": [
    "kalimat[-1]"
   ]
  },
  {
   "cell_type": "code",
   "execution_count": null,
   "id": "d1b1dc13",
   "metadata": {},
   "outputs": [],
   "source": []
  },
  {
   "cell_type": "code",
   "execution_count": 9,
   "id": "8041af3e",
   "metadata": {},
   "outputs": [
    {
     "data": {
      "text/plain": [
       "54"
      ]
     },
     "execution_count": 9,
     "metadata": {},
     "output_type": "execute_result"
    }
   ],
   "source": [
    "len(kalimat)"
   ]
  },
  {
   "cell_type": "code",
   "execution_count": 10,
   "id": "cad74ebf",
   "metadata": {},
   "outputs": [
    {
     "data": {
      "text/plain": [
       "'manchester united is the best club in football history'"
      ]
     },
     "execution_count": 10,
     "metadata": {},
     "output_type": "execute_result"
    }
   ],
   "source": [
    "kalimat"
   ]
  },
  {
   "cell_type": "code",
   "execution_count": 11,
   "id": "df217caa",
   "metadata": {},
   "outputs": [
    {
     "data": {
      "text/plain": [
       "'ester united is the best club in football histor'"
      ]
     },
     "execution_count": 11,
     "metadata": {},
     "output_type": "execute_result"
    }
   ],
   "source": [
    "kalimat[5:-1]"
   ]
  },
  {
   "cell_type": "code",
   "execution_count": 12,
   "id": "566f512a",
   "metadata": {},
   "outputs": [
    {
     "data": {
      "text/plain": [
       "'nchester united is the best club in football history'"
      ]
     },
     "execution_count": 12,
     "metadata": {},
     "output_type": "execute_result"
    }
   ],
   "source": [
    "kalimat[2:]"
   ]
  },
  {
   "cell_type": "code",
   "execution_count": 13,
   "id": "51f7a013",
   "metadata": {},
   "outputs": [
    {
     "data": {
      "text/plain": [
       "'cetruie stebs lbi otalhsoy'"
      ]
     },
     "execution_count": 13,
     "metadata": {},
     "output_type": "execute_result"
    }
   ],
   "source": [
    "kalimat[3::2]"
   ]
  },
  {
   "cell_type": "code",
   "execution_count": 14,
   "id": "c809501a",
   "metadata": {},
   "outputs": [
    {
     "ename": "SyntaxError",
     "evalue": "invalid syntax (4072319251.py, line 1)",
     "output_type": "error",
     "traceback": [
      "\u001b[1;36m  File \u001b[1;32m\"C:\\Users\\asusp\\AppData\\Local\\Temp\\ipykernel_1108\\4072319251.py\"\u001b[1;36m, line \u001b[1;32m1\u001b[0m\n\u001b[1;33m    kalimat[2:::1]\u001b[0m\n\u001b[1;37m               ^\u001b[0m\n\u001b[1;31mSyntaxError\u001b[0m\u001b[1;31m:\u001b[0m invalid syntax\n"
     ]
    }
   ],
   "source": [
    "kalimat[2:::1]"
   ]
  },
  {
   "cell_type": "code",
   "execution_count": 15,
   "id": "a72ecd5f",
   "metadata": {},
   "outputs": [
    {
     "data": {
      "text/plain": [
       "'manchester united is the best club in football history'"
      ]
     },
     "execution_count": 15,
     "metadata": {},
     "output_type": "execute_result"
    }
   ],
   "source": [
    "kalimat[::]"
   ]
  },
  {
   "cell_type": "code",
   "execution_count": 16,
   "id": "5197d289",
   "metadata": {},
   "outputs": [
    {
     "data": {
      "text/plain": [
       "'manchester united is the best club in football history'"
      ]
     },
     "execution_count": 16,
     "metadata": {},
     "output_type": "execute_result"
    }
   ],
   "source": [
    "kalimat[0:55:1]"
   ]
  },
  {
   "cell_type": "code",
   "execution_count": 17,
   "id": "0d968d7e",
   "metadata": {},
   "outputs": [
    {
     "ename": "TypeError",
     "evalue": "'builtin_function_or_method' object is not subscriptable",
     "output_type": "error",
     "traceback": [
      "\u001b[1;31m---------------------------------------------------------------------------\u001b[0m",
      "\u001b[1;31mTypeError\u001b[0m                                 Traceback (most recent call last)",
      "\u001b[1;32m~\\AppData\\Local\\Temp\\ipykernel_1108\\3684795492.py\u001b[0m in \u001b[0;36m<module>\u001b[1;34m\u001b[0m\n\u001b[1;32m----> 1\u001b[1;33m \u001b[0mlen\u001b[0m\u001b[1;33m[\u001b[0m\u001b[0mkalimat\u001b[0m\u001b[1;33m]\u001b[0m\u001b[1;33m\u001b[0m\u001b[1;33m\u001b[0m\u001b[0m\n\u001b[0m",
      "\u001b[1;31mTypeError\u001b[0m: 'builtin_function_or_method' object is not subscriptable"
     ]
    }
   ],
   "source": [
    "len[kalimat]\n",
    "#memakai kurung biasa"
   ]
  },
  {
   "cell_type": "code",
   "execution_count": 18,
   "id": "acfa948f",
   "metadata": {},
   "outputs": [
    {
     "data": {
      "text/plain": [
       "'mcsrneit scbnoblio'"
      ]
     },
     "execution_count": 18,
     "metadata": {},
     "output_type": "execute_result"
    }
   ],
   "source": [
    "kalimat[0:55:3]"
   ]
  },
  {
   "cell_type": "markdown",
   "id": "bb8f0924",
   "metadata": {},
   "source": [
    "# Method"
   ]
  },
  {
   "cell_type": "code",
   "execution_count": 19,
   "id": "f444569d",
   "metadata": {},
   "outputs": [],
   "source": [
    "riandika = 'Universitas Udayana mengalahkan Universitas Pendidikan Ganesha Dalam Skala Jarak Dari Kota Denpasar'"
   ]
  },
  {
   "cell_type": "code",
   "execution_count": 20,
   "id": "c2a09f65",
   "metadata": {},
   "outputs": [
    {
     "name": "stdout",
     "output_type": "stream",
     "text": [
      "99\n"
     ]
    }
   ],
   "source": [
    "print(len(riandika))"
   ]
  },
  {
   "cell_type": "code",
   "execution_count": 21,
   "id": "13dbb3f2",
   "metadata": {},
   "outputs": [
    {
     "data": {
      "text/plain": [
       "'UNIVERSITAS UDAYANA MENGALAHKAN UNIVERSITAS PENDIDIKAN GANESHA DALAM SKALA JARAK DARI KOTA DENPASAR'"
      ]
     },
     "execution_count": 21,
     "metadata": {},
     "output_type": "execute_result"
    }
   ],
   "source": [
    "riandika.upper()"
   ]
  },
  {
   "cell_type": "code",
   "execution_count": 22,
   "id": "fb7f8823",
   "metadata": {},
   "outputs": [
    {
     "data": {
      "text/plain": [
       "'universitas udayana mengalahkan universitas pendidikan ganesha dalam skala jarak dari kota denpasar'"
      ]
     },
     "execution_count": 22,
     "metadata": {},
     "output_type": "execute_result"
    }
   ],
   "source": [
    "riandika.lower()"
   ]
  },
  {
   "cell_type": "code",
   "execution_count": 23,
   "id": "3baa3f15",
   "metadata": {},
   "outputs": [
    {
     "data": {
      "text/plain": [
       "-1"
      ]
     },
     "execution_count": 23,
     "metadata": {},
     "output_type": "execute_result"
    }
   ],
   "source": [
    "riandika.find('skala')"
   ]
  },
  {
   "cell_type": "code",
   "execution_count": 24,
   "id": "04720553",
   "metadata": {},
   "outputs": [
    {
     "data": {
      "text/plain": [
       "69"
      ]
     },
     "execution_count": 24,
     "metadata": {},
     "output_type": "execute_result"
    }
   ],
   "source": [
    "riandika.find('Skala')"
   ]
  },
  {
   "cell_type": "code",
   "execution_count": 25,
   "id": "28d2ebea",
   "metadata": {},
   "outputs": [
    {
     "ename": "TypeError",
     "evalue": "replace expected at least 2 arguments, got 1",
     "output_type": "error",
     "traceback": [
      "\u001b[1;31m---------------------------------------------------------------------------\u001b[0m",
      "\u001b[1;31mTypeError\u001b[0m                                 Traceback (most recent call last)",
      "\u001b[1;32m~\\AppData\\Local\\Temp\\ipykernel_1108\\1157462051.py\u001b[0m in \u001b[0;36m<module>\u001b[1;34m\u001b[0m\n\u001b[1;32m----> 1\u001b[1;33m \u001b[0mriandika\u001b[0m\u001b[1;33m.\u001b[0m\u001b[0mreplace\u001b[0m\u001b[1;33m(\u001b[0m\u001b[1;34m'Udayana , Warmadewa'\u001b[0m\u001b[1;33m)\u001b[0m\u001b[1;33m\u001b[0m\u001b[1;33m\u001b[0m\u001b[0m\n\u001b[0m",
      "\u001b[1;31mTypeError\u001b[0m: replace expected at least 2 arguments, got 1"
     ]
    }
   ],
   "source": [
    "riandika.replace('Udayana , Warmadewa')"
   ]
  },
  {
   "cell_type": "code",
   "execution_count": 26,
   "id": "879184d4",
   "metadata": {},
   "outputs": [
    {
     "data": {
      "text/plain": [
       "'Universitas Warmadewa mengalahkan Universitas Pendidikan Ganesha Dalam Skala Jarak Dari Kota Denpasar'"
      ]
     },
     "execution_count": 26,
     "metadata": {},
     "output_type": "execute_result"
    }
   ],
   "source": [
    "riandika.replace('Udayana' , 'Warmadewa')"
   ]
  },
  {
   "cell_type": "code",
   "execution_count": 27,
   "id": "3bb60d53",
   "metadata": {},
   "outputs": [
    {
     "name": "stdout",
     "output_type": "stream",
     "text": [
      "True\n"
     ]
    }
   ],
   "source": [
    "print('Udayana' in riandika)"
   ]
  },
  {
   "cell_type": "code",
   "execution_count": 28,
   "id": "cbacb91f",
   "metadata": {},
   "outputs": [
    {
     "name": "stdout",
     "output_type": "stream",
     "text": [
      "False\n"
     ]
    }
   ],
   "source": [
    "print('Warmadewa' in riandika)"
   ]
  },
  {
   "cell_type": "code",
   "execution_count": 34,
   "id": "6907c2d6",
   "metadata": {},
   "outputs": [
    {
     "data": {
      "text/plain": [
       "'UNIVERSITAS U'"
      ]
     },
     "execution_count": 34,
     "metadata": {},
     "output_type": "execute_result"
    }
   ],
   "source": [
    "riandika[0:13].upper()"
   ]
  },
  {
   "cell_type": "code",
   "execution_count": 36,
   "id": "a24ac499",
   "metadata": {},
   "outputs": [
    {
     "data": {
      "text/plain": [
       "'DAYA'"
      ]
     },
     "execution_count": 36,
     "metadata": {},
     "output_type": "execute_result"
    }
   ],
   "source": [
    "riandika[13:17].upper()"
   ]
  },
  {
   "cell_type": "code",
   "execution_count": 41,
   "id": "8da66895",
   "metadata": {},
   "outputs": [
    {
     "name": "stdout",
     "output_type": "stream",
     "text": [
      "Universitas UDAYANA mengalahkan Universitas Pendidikan Ganesha Dalam Skala Jarak Dari Kota Denpasar\n"
     ]
    }
   ],
   "source": [
    "print(riandika[0:12]+riandika[12:20].upper()+riandika[20::])"
   ]
  },
  {
   "cell_type": "markdown",
   "id": "e661a0bc",
   "metadata": {},
   "source": [
    "# Operasi Matematika"
   ]
  },
  {
   "cell_type": "code",
   "execution_count": 43,
   "id": "0e80b718",
   "metadata": {},
   "outputs": [
    {
     "name": "stdout",
     "output_type": "stream",
     "text": [
      "5\n",
      "1\n",
      "6\n",
      "2.3333333333333335\n",
      "2\n",
      "1\n",
      "8\n",
      "4\n",
      "2\n",
      "6\n"
     ]
    }
   ],
   "source": [
    "print(2+3)\n",
    "print(3-2)\n",
    "print(2*3)\n",
    "print(7/3)\n",
    "print(7//3)\n",
    "print(7%3)\n",
    "print(2**3)\n",
    "x=3\n",
    "x+=1\n",
    "print(x)\n",
    "x-=2\n",
    "print(x)\n",
    "x*=3\n",
    "print(x)\n"
   ]
  },
  {
   "cell_type": "markdown",
   "id": "f253d7b8",
   "metadata": {},
   "source": [
    "$$\\frac{1}{2}$$"
   ]
  },
  {
   "cell_type": "code",
   "execution_count": 44,
   "id": "246cb54d",
   "metadata": {},
   "outputs": [
    {
     "name": "stdout",
     "output_type": "stream",
     "text": [
      "True\n"
     ]
    }
   ],
   "source": [
    "x = 3>2\n",
    "print(x)"
   ]
  },
  {
   "cell_type": "code",
   "execution_count": 45,
   "id": "c78fe4cc",
   "metadata": {},
   "outputs": [
    {
     "name": "stdout",
     "output_type": "stream",
     "text": [
      "False\n"
     ]
    }
   ],
   "source": [
    "x = 2>3\n",
    "print(x)"
   ]
  },
  {
   "cell_type": "code",
   "execution_count": 46,
   "id": "26f422e5",
   "metadata": {},
   "outputs": [
    {
     "name": "stdout",
     "output_type": "stream",
     "text": [
      "True\n"
     ]
    }
   ],
   "source": [
    "x = 3 !=4\n",
    "print(x)"
   ]
  },
  {
   "cell_type": "code",
   "execution_count": 47,
   "id": "f864aab1",
   "metadata": {},
   "outputs": [
    {
     "name": "stdout",
     "output_type": "stream",
     "text": [
      "False\n"
     ]
    }
   ],
   "source": [
    "x = 3 !=3\n",
    "print (x)"
   ]
  },
  {
   "cell_type": "code",
   "execution_count": 49,
   "id": "c233adee",
   "metadata": {},
   "outputs": [
    {
     "data": {
      "text/plain": [
       "-2"
      ]
     },
     "execution_count": 49,
     "metadata": {},
     "output_type": "execute_result"
    }
   ],
   "source": [
    "~1"
   ]
  },
  {
   "cell_type": "code",
   "execution_count": 50,
   "id": "7ddf83d7",
   "metadata": {},
   "outputs": [
    {
     "data": {
      "text/plain": [
       "-16"
      ]
     },
     "execution_count": 50,
     "metadata": {},
     "output_type": "execute_result"
    }
   ],
   "source": [
    "~15"
   ]
  },
  {
   "cell_type": "code",
   "execution_count": 59,
   "id": "351bfa3c",
   "metadata": {},
   "outputs": [
    {
     "name": "stdout",
     "output_type": "stream",
     "text": [
      "100\n"
     ]
    }
   ],
   "source": [
    "y = 1\n",
    "x = 10\n",
    "if (x <= 10):\n",
    "    y = x*x\n",
    "    x = x + 1\n",
    "print(y)"
   ]
  },
  {
   "cell_type": "code",
   "execution_count": null,
   "id": "67119c54",
   "metadata": {},
   "outputs": [],
   "source": []
  }
 ],
 "metadata": {
  "kernelspec": {
   "display_name": "Python 3 (ipykernel)",
   "language": "python",
   "name": "python3"
  },
  "language_info": {
   "codemirror_mode": {
    "name": "ipython",
    "version": 3
   },
   "file_extension": ".py",
   "mimetype": "text/x-python",
   "name": "python",
   "nbconvert_exporter": "python",
   "pygments_lexer": "ipython3",
   "version": "3.9.13"
  }
 },
 "nbformat": 4,
 "nbformat_minor": 5
}
