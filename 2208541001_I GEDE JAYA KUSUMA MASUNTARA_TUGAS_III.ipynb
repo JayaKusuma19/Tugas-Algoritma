{
 "cells": [
  {
   "cell_type": "markdown",
   "id": "b11bbbc8",
   "metadata": {},
   "source": [
    "# Indeks"
   ]
  },
  {
   "cell_type": "code",
   "execution_count": 1,
   "id": "4dff86d7",
   "metadata": {},
   "outputs": [],
   "source": [
    "kalimat_01 = 'manchester united is the best club in football history'"
   ]
  },
  {
   "cell_type": "code",
   "execution_count": 2,
   "id": "71bbca52",
   "metadata": {},
   "outputs": [
    {
     "name": "stdout",
     "output_type": "stream",
     "text": [
      "manchester united is the best club in football history\n"
     ]
    }
   ],
   "source": [
    "print(kalimat_01)"
   ]
  },
  {
   "cell_type": "code",
   "execution_count": 3,
   "id": "fb6ad1da",
   "metadata": {},
   "outputs": [
    {
     "name": "stdout",
     "output_type": "stream",
     "text": [
      "c\n"
     ]
    }
   ],
   "source": [
    "print(kalimat_01[3])\n",
    "#mencetak karakter ketiga yaitu huruf c, \n",
    "#karena dimulai dari 0,1,2,3 jadi karakter ketiga adalah huruf c."
   ]
  },
  {
   "cell_type": "code",
   "execution_count": 4,
   "id": "9de6ff6d",
   "metadata": {
    "scrolled": true
   },
   "outputs": [
    {
     "name": "stdout",
     "output_type": "stream",
     "text": [
      "manchester united\n"
     ]
    }
   ],
   "source": [
    "print(kalimat_01[0:17])\n",
    "#mencetak karakter mulai dari 0 sampai dengan 17."
   ]
  },
  {
   "cell_type": "code",
   "execution_count": 5,
   "id": "64174559",
   "metadata": {},
   "outputs": [
    {
     "data": {
      "text/plain": [
       "'y'"
      ]
     },
     "execution_count": 5,
     "metadata": {},
     "output_type": "execute_result"
    }
   ],
   "source": [
    "kalimat_01[-1]\n",
    "#mencetak karakter terakhir dari variabel."
   ]
  },
  {
   "cell_type": "code",
   "execution_count": 6,
   "id": "f5114c55",
   "metadata": {},
   "outputs": [
    {
     "data": {
      "text/plain": [
       "54"
      ]
     },
     "execution_count": 6,
     "metadata": {},
     "output_type": "execute_result"
    }
   ],
   "source": [
    "len(kalimat_01)\n",
    "#menghitung banyaknya karakter dari suatu variabel."
   ]
  },
  {
   "cell_type": "code",
   "execution_count": 7,
   "id": "ad286e10",
   "metadata": {},
   "outputs": [
    {
     "data": {
      "text/plain": [
       "'manchester united is the best club in football history'"
      ]
     },
     "execution_count": 7,
     "metadata": {},
     "output_type": "execute_result"
    }
   ],
   "source": [
    "kalimat_01\n",
    "#tanpa perintah print, hanya menggunakan nama variabel saja,\n",
    "#mempersingkat waktu ketik."
   ]
  },
  {
   "cell_type": "code",
   "execution_count": 8,
   "id": "21fdfbc0",
   "metadata": {},
   "outputs": [
    {
     "data": {
      "text/plain": [
       "'ester united is the best club in football histor'"
      ]
     },
     "execution_count": 8,
     "metadata": {},
     "output_type": "execute_result"
    }
   ],
   "source": [
    "kalimat_01[5:-1]\n",
    "#mencetak karakter kelima sampai karakter terakhir dikurangi 1 (cmiiw)."
   ]
  },
  {
   "cell_type": "code",
   "execution_count": 9,
   "id": "b1d88719",
   "metadata": {},
   "outputs": [
    {
     "data": {
      "text/plain": [
       "'nchester united is the best club in football history'"
      ]
     },
     "execution_count": 9,
     "metadata": {},
     "output_type": "execute_result"
    }
   ],
   "source": [
    "kalimat_01[2:]\n",
    "#mencetak karakter kedua sampai terakhir."
   ]
  },
  {
   "cell_type": "code",
   "execution_count": 10,
   "id": "9589015b",
   "metadata": {},
   "outputs": [
    {
     "data": {
      "text/plain": [
       "'cetruie stebs lbi otalhsoy'"
      ]
     },
     "execution_count": 10,
     "metadata": {},
     "output_type": "execute_result"
    }
   ],
   "source": [
    "kalimat_01[3::2]\n",
    "#mencetak karakter ketiga sampai terakhir namun diloncati 2 karakter,\n",
    "#karena menggunakan perintah titik dua (:) dua kali."
   ]
  },
  {
   "cell_type": "code",
   "execution_count": 11,
   "id": "1f670656",
   "metadata": {},
   "outputs": [
    {
     "ename": "SyntaxError",
     "evalue": "invalid syntax (2970011346.py, line 1)",
     "output_type": "error",
     "traceback": [
      "\u001b[1;36m  File \u001b[1;32m\"C:\\Users\\asusp\\AppData\\Local\\Temp\\ipykernel_19680\\2970011346.py\"\u001b[1;36m, line \u001b[1;32m1\u001b[0m\n\u001b[1;33m    kalimat[2:::1]\u001b[0m\n\u001b[1;37m               ^\u001b[0m\n\u001b[1;31mSyntaxError\u001b[0m\u001b[1;31m:\u001b[0m invalid syntax\n"
     ]
    }
   ],
   "source": [
    "kalimat[2:::1]\n",
    "#tidak ada perintah tanda titik dua tiga kali."
   ]
  },
  {
   "cell_type": "code",
   "execution_count": 12,
   "id": "955d8c01",
   "metadata": {},
   "outputs": [
    {
     "data": {
      "text/plain": [
       "'manchester united is the best club in football history'"
      ]
     },
     "execution_count": 12,
     "metadata": {},
     "output_type": "execute_result"
    }
   ],
   "source": [
    "kalimat_01[::]"
   ]
  },
  {
   "cell_type": "code",
   "execution_count": 13,
   "id": "a58188d6",
   "metadata": {},
   "outputs": [
    {
     "data": {
      "text/plain": [
       "'manchester united is the best club in football history'"
      ]
     },
     "execution_count": 13,
     "metadata": {},
     "output_type": "execute_result"
    }
   ],
   "source": [
    "kalimat_01[0:55:1]\n",
    "#mencetak karakter dari 0 sampai 55 dengan diloncati 1."
   ]
  },
  {
   "cell_type": "code",
   "execution_count": 14,
   "id": "05c73c86",
   "metadata": {},
   "outputs": [
    {
     "ename": "TypeError",
     "evalue": "'builtin_function_or_method' object is not subscriptable",
     "output_type": "error",
     "traceback": [
      "\u001b[1;31m---------------------------------------------------------------------------\u001b[0m",
      "\u001b[1;31mTypeError\u001b[0m                                 Traceback (most recent call last)",
      "\u001b[1;32m~\\AppData\\Local\\Temp\\ipykernel_19680\\773846305.py\u001b[0m in \u001b[0;36m<module>\u001b[1;34m\u001b[0m\n\u001b[1;32m----> 1\u001b[1;33m \u001b[0mlen\u001b[0m\u001b[1;33m[\u001b[0m\u001b[0mkalimat_01\u001b[0m\u001b[1;33m]\u001b[0m\u001b[1;33m\u001b[0m\u001b[1;33m\u001b[0m\u001b[0m\n\u001b[0m\u001b[0;32m      2\u001b[0m \u001b[1;31m#memakai kurung biasa!\u001b[0m\u001b[1;33m\u001b[0m\u001b[1;33m\u001b[0m\u001b[0m\n",
      "\u001b[1;31mTypeError\u001b[0m: 'builtin_function_or_method' object is not subscriptable"
     ]
    }
   ],
   "source": [
    "len[kalimat_01]\n",
    "#memakai kurung biasa!"
   ]
  },
  {
   "cell_type": "code",
   "execution_count": 15,
   "id": "772c346b",
   "metadata": {},
   "outputs": [
    {
     "data": {
      "text/plain": [
       "'mcsrneit scbnoblio'"
      ]
     },
     "execution_count": 15,
     "metadata": {},
     "output_type": "execute_result"
    }
   ],
   "source": [
    "kalimat_01[0:55:3]\n",
    "#mencetak karakter dari 0 sampai 55 dengan diloncati 3."
   ]
  },
  {
   "cell_type": "markdown",
   "id": "004d9c5d",
   "metadata": {},
   "source": [
    "# Method"
   ]
  },
  {
   "cell_type": "code",
   "execution_count": 16,
   "id": "c428f147",
   "metadata": {},
   "outputs": [],
   "source": [
    "jaya_01 = 'Universitas Udayana mengalahkan Universitas Pendidikan Ganesha Dalam Skala Jarak Dari Kota Denpasar'"
   ]
  },
  {
   "cell_type": "code",
   "execution_count": 29,
   "id": "6a3464c0",
   "metadata": {},
   "outputs": [
    {
     "name": "stdout",
     "output_type": "stream",
     "text": [
      "99\n"
     ]
    }
   ],
   "source": [
    "print(len(jaya_01))\n",
    "#mencetak jumlah karakter dalam variabel 'jaya_01'"
   ]
  },
  {
   "cell_type": "code",
   "execution_count": 30,
   "id": "31987016",
   "metadata": {},
   "outputs": [
    {
     "data": {
      "text/plain": [
       "'UNIVERSITAS UDAYANA MENGALAHKAN UNIVERSITAS PENDIDIKAN GANESHA DALAM SKALA JARAK DARI KOTA DENPASAR'"
      ]
     },
     "execution_count": 30,
     "metadata": {},
     "output_type": "execute_result"
    }
   ],
   "source": [
    "jaya_01.upper()\n",
    "#merubah seluruh karakter dalam variabel menjadi huruf kapital."
   ]
  },
  {
   "cell_type": "code",
   "execution_count": 31,
   "id": "d450cc34",
   "metadata": {},
   "outputs": [
    {
     "data": {
      "text/plain": [
       "'universitas udayana mengalahkan universitas pendidikan ganesha dalam skala jarak dari kota denpasar'"
      ]
     },
     "execution_count": 31,
     "metadata": {},
     "output_type": "execute_result"
    }
   ],
   "source": [
    "jaya_01.lower()\n",
    "#merubah seluruh karakter dalam variabel menjadi huruf kecil."
   ]
  },
  {
   "cell_type": "code",
   "execution_count": 20,
   "id": "8e3fca7a",
   "metadata": {},
   "outputs": [
    {
     "data": {
      "text/plain": [
       "-1"
      ]
     },
     "execution_count": 20,
     "metadata": {},
     "output_type": "execute_result"
    }
   ],
   "source": [
    "jaya_01.find('skala')\n",
    "#mencari kata 'skala' dalam variabel,\n",
    "#'skala' tidak terdapat dalam variabel \n",
    "#namun yang terdapat adalah 'Skala' dengan awalan huruf kapital,\n",
    "#karena tidak ditemukan maka dicetaklah '-1'"
   ]
  },
  {
   "cell_type": "code",
   "execution_count": 21,
   "id": "af45b6e6",
   "metadata": {},
   "outputs": [
    {
     "data": {
      "text/plain": [
       "69"
      ]
     },
     "execution_count": 21,
     "metadata": {},
     "output_type": "execute_result"
    }
   ],
   "source": [
    "jaya_01.find('Skala')\n",
    "#ditemukan kata 'Skala' dalam karakter ke-69."
   ]
  },
  {
   "cell_type": "code",
   "execution_count": 22,
   "id": "2b521871",
   "metadata": {},
   "outputs": [
    {
     "ename": "TypeError",
     "evalue": "replace expected at least 2 arguments, got 1",
     "output_type": "error",
     "traceback": [
      "\u001b[1;31m---------------------------------------------------------------------------\u001b[0m",
      "\u001b[1;31mTypeError\u001b[0m                                 Traceback (most recent call last)",
      "\u001b[1;32m~\\AppData\\Local\\Temp\\ipykernel_19680\\930150248.py\u001b[0m in \u001b[0;36m<module>\u001b[1;34m\u001b[0m\n\u001b[1;32m----> 1\u001b[1;33m \u001b[0mjaya_01\u001b[0m\u001b[1;33m.\u001b[0m\u001b[0mreplace\u001b[0m\u001b[1;33m(\u001b[0m\u001b[1;34m'Udayana , Warmadewa'\u001b[0m\u001b[1;33m)\u001b[0m\u001b[1;33m\u001b[0m\u001b[1;33m\u001b[0m\u001b[0m\n\u001b[0m",
      "\u001b[1;31mTypeError\u001b[0m: replace expected at least 2 arguments, got 1"
     ]
    }
   ],
   "source": [
    "jaya_01.replace('Udayana , Warmadewa')\n",
    "#eror karena kurangnya tanda ' pada setiap kata yang mau diganti."
   ]
  },
  {
   "cell_type": "code",
   "execution_count": 32,
   "id": "987416ec",
   "metadata": {},
   "outputs": [
    {
     "data": {
      "text/plain": [
       "'Universitas Warmadewa mengalahkan Universitas Pendidikan Ganesha Dalam Skala Jarak Dari Kota Denpasar'"
      ]
     },
     "execution_count": 32,
     "metadata": {},
     "output_type": "execute_result"
    }
   ],
   "source": [
    "jaya_01.replace('Udayana' , 'Warmadewa')\n",
    "#mengganti kata 'Udayana' menjadi 'Warmadewa'."
   ]
  },
  {
   "cell_type": "code",
   "execution_count": 24,
   "id": "35551c70",
   "metadata": {},
   "outputs": [
    {
     "name": "stdout",
     "output_type": "stream",
     "text": [
      "True\n"
     ]
    }
   ],
   "source": [
    "print('Udayana' in jaya_01)\n",
    "#mencari tahu apakah ada kata 'Udayana' dalam variabel 'jaya_01'\n",
    "#karena terdapat, dicetaklah 'True'"
   ]
  },
  {
   "cell_type": "code",
   "execution_count": 25,
   "id": "1791430b",
   "metadata": {},
   "outputs": [
    {
     "name": "stdout",
     "output_type": "stream",
     "text": [
      "False\n"
     ]
    }
   ],
   "source": [
    "print('Warmadewa' in jaya_01)\n",
    "#mencari tahu apakah ada kata 'Warmadewa' dalam variabel 'jaya_01'\n",
    "#walaupun sempat diganti pada input ke [32], namun yang dipakai tetap inputan yang pertama,\n",
    "#karena tidak terdapat, dicetaklah 'False'"
   ]
  },
  {
   "cell_type": "code",
   "execution_count": 26,
   "id": "24d3d411",
   "metadata": {},
   "outputs": [
    {
     "data": {
      "text/plain": [
       "'UNIVERSITAS '"
      ]
     },
     "execution_count": 26,
     "metadata": {},
     "output_type": "execute_result"
    }
   ],
   "source": [
    "jaya_01[0:12].upper()\n",
    "#mengganti karakter dari 0 sampai 12 menjadi huruf kapital."
   ]
  },
  {
   "cell_type": "code",
   "execution_count": 27,
   "id": "54af94b0",
   "metadata": {},
   "outputs": [
    {
     "data": {
      "text/plain": [
       "'DAYA'"
      ]
     },
     "execution_count": 27,
     "metadata": {},
     "output_type": "execute_result"
    }
   ],
   "source": [
    "jaya_01[13:17].upper()\n",
    "#mengganti karakter dari 13 sampai 17 menjadi huruf kapital."
   ]
  },
  {
   "cell_type": "code",
   "execution_count": 28,
   "id": "679ee660",
   "metadata": {},
   "outputs": [
    {
     "name": "stdout",
     "output_type": "stream",
     "text": [
      "Universitas UDAYANA mengalahkan Universitas Pendidikan Ganesha Dalam Skala Jarak Dari Kota Denpasar\n"
     ]
    }
   ],
   "source": [
    "print(jaya_01[0:12]+jaya_01[12:20].upper()+jaya_01[20::])\n",
    "#mengkombinasikan untuk mendapatkan huruf kapital dalam kata 'Udayana'\n",
    "#namun tidak dengan kata lainnya."
   ]
  },
  {
   "cell_type": "markdown",
   "id": "61d13960",
   "metadata": {},
   "source": [
    "# Operasi Matematika"
   ]
  },
  {
   "cell_type": "code",
   "execution_count": 33,
   "id": "6d9873bd",
   "metadata": {},
   "outputs": [
    {
     "name": "stdout",
     "output_type": "stream",
     "text": [
      "5\n",
      "1\n",
      "6\n",
      "2.3333333333333335\n",
      "2\n",
      "1\n",
      "8\n",
      "4\n",
      "2\n",
      "6\n"
     ]
    }
   ],
   "source": [
    "#operasi penjumlahan.\n",
    "print(2+3)\n",
    "#operasi pengurangan.\n",
    "print(3-2)\n",
    "#operasi perkalian.\n",
    "print(2*3)\n",
    "#operasi pembagian.\n",
    "print(7/3)\n",
    "#operasi pembulatan pembagian.\n",
    "print(7//3)\n",
    "#modulo (sisa dari pembagian).\n",
    "print(7%3)\n",
    "#operasi pemangkatan.\n",
    "print(2**3)\n",
    "\n",
    "#argumented operator\n",
    "x=3\n",
    "x+=1\n",
    "#artinya 3 + 1\n",
    "print(x)\n",
    "x-=2\n",
    "#hasil dari 3 + 1 dikurangi dengan 2\n",
    "print(x)\n",
    "x*=3\n",
    "#hasil dari 'x' dikalikan 3\n",
    "print(x)"
   ]
  },
  {
   "cell_type": "code",
   "execution_count": 34,
   "id": "0a4ee1f7",
   "metadata": {},
   "outputs": [
    {
     "name": "stdout",
     "output_type": "stream",
     "text": [
      "masukkan angka pertama = 3\n",
      "masukkan angka kedua = 4\n"
     ]
    }
   ],
   "source": [
    "first = input('masukkan angka pertama = ')\n",
    "second = input('masukkan angka kedua = ')"
   ]
  },
  {
   "cell_type": "code",
   "execution_count": 35,
   "id": "0a3ad4a3",
   "metadata": {},
   "outputs": [
    {
     "data": {
      "text/plain": [
       "7"
      ]
     },
     "execution_count": 35,
     "metadata": {},
     "output_type": "execute_result"
    }
   ],
   "source": [
    "int(first) + int(second)"
   ]
  },
  {
   "cell_type": "code",
   "execution_count": 36,
   "id": "2bf6a356",
   "metadata": {},
   "outputs": [
    {
     "data": {
      "text/plain": [
       "-1"
      ]
     },
     "execution_count": 36,
     "metadata": {},
     "output_type": "execute_result"
    }
   ],
   "source": [
    "int(first) - int(second)"
   ]
  },
  {
   "cell_type": "code",
   "execution_count": 37,
   "id": "49a85349",
   "metadata": {},
   "outputs": [
    {
     "data": {
      "text/plain": [
       "12"
      ]
     },
     "execution_count": 37,
     "metadata": {},
     "output_type": "execute_result"
    }
   ],
   "source": [
    "int(first) * int(second)"
   ]
  },
  {
   "cell_type": "code",
   "execution_count": 38,
   "id": "0ecc1279",
   "metadata": {},
   "outputs": [
    {
     "data": {
      "text/plain": [
       "0.75"
      ]
     },
     "execution_count": 38,
     "metadata": {},
     "output_type": "execute_result"
    }
   ],
   "source": [
    "int(first) / int(second)"
   ]
  },
  {
   "cell_type": "code",
   "execution_count": 41,
   "id": "3720a8d0",
   "metadata": {},
   "outputs": [
    {
     "data": {
      "text/plain": [
       "0"
      ]
     },
     "execution_count": 41,
     "metadata": {},
     "output_type": "execute_result"
    }
   ],
   "source": [
    "int(first) // int(second)"
   ]
  },
  {
   "cell_type": "code",
   "execution_count": 42,
   "id": "ec188263",
   "metadata": {},
   "outputs": [
    {
     "data": {
      "text/plain": [
       "3"
      ]
     },
     "execution_count": 42,
     "metadata": {},
     "output_type": "execute_result"
    }
   ],
   "source": [
    "int(first) % int(second)"
   ]
  },
  {
   "cell_type": "code",
   "execution_count": 43,
   "id": "c480efc2",
   "metadata": {},
   "outputs": [
    {
     "data": {
      "text/plain": [
       "81"
      ]
     },
     "execution_count": 43,
     "metadata": {},
     "output_type": "execute_result"
    }
   ],
   "source": [
    "int(first) ** int(second)"
   ]
  },
  {
   "cell_type": "markdown",
   "id": "f38fb4ec",
   "metadata": {},
   "source": [
    "# Operator Perbandingan"
   ]
  },
  {
   "cell_type": "code",
   "execution_count": null,
   "id": "1f066211",
   "metadata": {},
   "outputs": [],
   "source": [
    "#jika bernilai benar 'True' saat perintah (~x) akan dicetak -2\n",
    "#jika bernilai salah 'False' saat perintah (~x) akan dicetak -1"
   ]
  },
  {
   "cell_type": "code",
   "execution_count": 61,
   "id": "bd7fe672",
   "metadata": {},
   "outputs": [
    {
     "name": "stdout",
     "output_type": "stream",
     "text": [
      "True\n",
      "-2\n"
     ]
    }
   ],
   "source": [
    "x = 3>2\n",
    "#apakah 3 lebih besar daripada 2?\n",
    "print(x)\n",
    "print (~x)"
   ]
  },
  {
   "cell_type": "code",
   "execution_count": 60,
   "id": "85394361",
   "metadata": {},
   "outputs": [
    {
     "name": "stdout",
     "output_type": "stream",
     "text": [
      "False\n",
      "-1\n"
     ]
    }
   ],
   "source": [
    "x = 2>3\n",
    "#apakah 2 lebih besar dari 3?\n",
    "print(x)\n",
    "print (~x)"
   ]
  },
  {
   "cell_type": "code",
   "execution_count": 59,
   "id": "c8046a35",
   "metadata": {},
   "outputs": [
    {
     "name": "stdout",
     "output_type": "stream",
     "text": [
      "True\n",
      "-2\n"
     ]
    }
   ],
   "source": [
    "x = 3 !=4\n",
    "#apakah 3 tidak sama dengan 4?\n",
    "print(x)\n",
    "print (~x)"
   ]
  },
  {
   "cell_type": "code",
   "execution_count": 58,
   "id": "7a8011c5",
   "metadata": {},
   "outputs": [
    {
     "name": "stdout",
     "output_type": "stream",
     "text": [
      "False\n",
      "-1\n"
     ]
    }
   ],
   "source": [
    "x = 3 !=3\n",
    "#apakah 3 tidak sama dengan 3?\n",
    "print (x)\n",
    "print (~x)"
   ]
  },
  {
   "cell_type": "code",
   "execution_count": 57,
   "id": "2917113f",
   "metadata": {},
   "outputs": [
    {
     "name": "stdout",
     "output_type": "stream",
     "text": [
      "False\n",
      "-1\n"
     ]
    }
   ],
   "source": [
    "x = 4 >= 5 \n",
    "#apakah 4 lebih dari sama dengan 5?\n",
    "print (x)\n",
    "print (~x)"
   ]
  },
  {
   "cell_type": "code",
   "execution_count": 56,
   "id": "7cf586ce",
   "metadata": {},
   "outputs": [
    {
     "name": "stdout",
     "output_type": "stream",
     "text": [
      "True\n",
      "-2\n"
     ]
    }
   ],
   "source": [
    "x = 4 <= 5 \n",
    "#apakah 4 kurang dari sama dengan 5?\n",
    "print (x)\n",
    "print (~x)"
   ]
  },
  {
   "cell_type": "code",
   "execution_count": 55,
   "id": "233ef403",
   "metadata": {},
   "outputs": [
    {
     "name": "stdout",
     "output_type": "stream",
     "text": [
      "True\n",
      "-2\n"
     ]
    }
   ],
   "source": [
    "x = 4 == 4\n",
    "#apakah 4 sama dengan 4?\n",
    "print (x)\n",
    "print (~x)"
   ]
  },
  {
   "cell_type": "code",
   "execution_count": 54,
   "id": "714aa22d",
   "metadata": {},
   "outputs": [
    {
     "name": "stdout",
     "output_type": "stream",
     "text": [
      "False\n",
      "-1\n"
     ]
    }
   ],
   "source": [
    "x = 4 == 5\n",
    "#apakah 4 sama dengan 5?\n",
    "print (x)\n",
    "print (~x)"
   ]
  },
  {
   "cell_type": "markdown",
   "id": "3de4e034",
   "metadata": {},
   "source": [
    "# Operator Logika"
   ]
  },
  {
   "cell_type": "code",
   "execution_count": null,
   "id": "16b2cd6d",
   "metadata": {},
   "outputs": [],
   "source": [
    "#untuk operator dan 'and' berlaku, jika benar kedua argumen maka hasil akhirnya adalah benar (True),\n",
    "#jika salah satu atau kedua argumen bernilai salah maka hasil akhirnya adalah salah (False).\n",
    "#untuk operator atau 'or' berlaku, jika salah satu atau kedua argumen bernilai benar,\n",
    "#maka hasil akhirnya adalah benar (True), namun jika kedua nilai bernilai salah,\n",
    "#maka hasil akhirnya adalah salah (False)."
   ]
  },
  {
   "cell_type": "code",
   "execution_count": 70,
   "id": "7ecbb82d",
   "metadata": {},
   "outputs": [
    {
     "name": "stdout",
     "output_type": "stream",
     "text": [
      "False\n"
     ]
    }
   ],
   "source": [
    "evos = 7\n",
    "rrq = 8\n",
    "print(evos > 5 and  rrq < 3)\n",
    "#apakah evos lebih dari 5 dan rrq kurang dari 3?"
   ]
  },
  {
   "cell_type": "code",
   "execution_count": 64,
   "id": "3761e4c9",
   "metadata": {},
   "outputs": [
    {
     "name": "stdout",
     "output_type": "stream",
     "text": [
      "True\n"
     ]
    }
   ],
   "source": [
    "print (evos > 5 and rrq < 10)\n",
    "#apakah evos lebih dari 5 dan rrq kurang dari 10?"
   ]
  },
  {
   "cell_type": "code",
   "execution_count": 65,
   "id": "eeb6daad",
   "metadata": {},
   "outputs": [
    {
     "name": "stdout",
     "output_type": "stream",
     "text": [
      "True\n"
     ]
    }
   ],
   "source": [
    "print (evos > 5 or rrq < 3)\n",
    "#apakah evos lebih dari 5 atau rrq kurang dari 3?"
   ]
  },
  {
   "cell_type": "code",
   "execution_count": 66,
   "id": "ba590222",
   "metadata": {},
   "outputs": [
    {
     "name": "stdout",
     "output_type": "stream",
     "text": [
      "False\n"
     ]
    }
   ],
   "source": [
    "print (evos > 8 or rrq < 3)\n",
    "#apakah evos lebih dari 8 atau rrq kurang dari 3?"
   ]
  },
  {
   "cell_type": "code",
   "execution_count": 68,
   "id": "b6992b58",
   "metadata": {},
   "outputs": [
    {
     "name": "stdout",
     "output_type": "stream",
     "text": [
      "True\n"
     ]
    }
   ],
   "source": [
    "print (evos > 5 or rrq < 9)\n",
    "#apakah evos lebih dari 5 atau rrq kurang dari 9?"
   ]
  },
  {
   "cell_type": "code",
   "execution_count": 69,
   "id": "0eb0bd8b",
   "metadata": {},
   "outputs": [
    {
     "name": "stdout",
     "output_type": "stream",
     "text": [
      "True\n"
     ]
    }
   ],
   "source": [
    "print (evos > 8 or rrq < 9)\n",
    "#apakah evos lebih dari 8 atau rrq kurang dari 9?"
   ]
  },
  {
   "cell_type": "markdown",
   "id": "a6a71cce",
   "metadata": {},
   "source": [
    "# Operator if"
   ]
  },
  {
   "cell_type": "code",
   "execution_count": 74,
   "id": "81e49bb6",
   "metadata": {},
   "outputs": [
    {
     "name": "stdout",
     "output_type": "stream",
     "text": [
      "klasemen mpl tim favoritmu adalah = 7\n",
      "Tim favoritmu tidak lolos play off\n",
      "Semangat! , bertemu lagi season depan.\n"
     ]
    }
   ],
   "source": [
    "klasemen = float(input(\"klasemen mpl tim favoritmu adalah = \"))\n",
    "if klasemen >= 7:\n",
    "    print(\"Tim favoritmu tidak lolos play off\")\n",
    "    print(\"Semangat! , bertemu lagi season depan.\")\n",
    "if klasemen < 7 and klasemen >= 3:\n",
    "    print(\"Tim favoritmu lolos play off\")\n",
    "    print(\"Namun harus berjuang dulu di lower bracket.\")\n",
    "if klasemen < 3 and klasemen >= 1:\n",
    "    print(\"Tim favoritmu lolos play off\")\n",
    "    print(\"Selamat berjuang di upper bracket.\")"
   ]
  },
  {
   "cell_type": "code",
   "execution_count": 75,
   "id": "00d96caf",
   "metadata": {},
   "outputs": [
    {
     "name": "stdout",
     "output_type": "stream",
     "text": [
      "klasemen mpl tim favoritmu adalah = 5\n",
      "Tim favoritmu lolos play off\n",
      "Namun harus berjuang dulu di lower bracket.\n"
     ]
    }
   ],
   "source": [
    "klasemen = float(input(\"klasemen mpl tim favoritmu adalah = \"))\n",
    "if klasemen >= 7:\n",
    "    print(\"Tim favoritmu tidak lolos play off\")\n",
    "    print(\"Semangat! , bertemu lagi season depan.\")\n",
    "if klasemen < 7 and klasemen >= 3:\n",
    "    print(\"Tim favoritmu lolos play off\")\n",
    "    print(\"Namun harus berjuang dulu di lower bracket.\")\n",
    "if klasemen < 3 and klasemen >= 1:\n",
    "    print(\"Tim favoritmu lolos play off\")\n",
    "    print(\"Selamat berjuang di upper bracket.\")"
   ]
  },
  {
   "cell_type": "code",
   "execution_count": 78,
   "id": "9e7222ef",
   "metadata": {},
   "outputs": [
    {
     "name": "stdout",
     "output_type": "stream",
     "text": [
      "klasemen mpl tim favoritmu adalah = 1\n",
      "Tim favoritmu lolos play off\n",
      "Selamat berjuang di upper bracket.\n"
     ]
    }
   ],
   "source": [
    "klasemen = float(input(\"klasemen mpl tim favoritmu adalah = \"))\n",
    "if klasemen >= 7:\n",
    "    print(\"Tim favoritmu tidak lolos play off\")\n",
    "    print(\"Semangat! , bertemu lagi season depan.\")\n",
    "elif klasemen < 7 and klasemen >= 3:\n",
    "    print(\"Tim favoritmu lolos play off\")\n",
    "    print(\"Namun harus berjuang dulu di lower bracket.\")\n",
    "elif klasemen < 3 and klasemen >= 1:\n",
    "    print(\"Tim favoritmu lolos play off\")\n",
    "    print(\"Selamat berjuang di upper bracket.\")"
   ]
  },
  {
   "cell_type": "code",
   "execution_count": 79,
   "id": "2e054a61",
   "metadata": {},
   "outputs": [
    {
     "name": "stdout",
     "output_type": "stream",
     "text": [
      "Berapa tinggi anda? 175\n",
      "Tingginya adalah inci atau cm?cm\n",
      "Tinggi anda adalah 68.897675 Inci\n"
     ]
    }
   ],
   "source": [
    "tinggi = float (input(\"Berapa tinggi anda? \"))\n",
    "cm_atau_inci = input(\"Tingginya adalah inci atau cm?\")\n",
    "\n",
    "if cm_atau_inci.upper() == 'CM' :\n",
    "    tinggi = tinggi*0.393701\n",
    "    print('Tinggi anda adalah ' + str(tinggi) + \" Inci\")\n",
    "elif cm_atau_inci.upper() == 'INCI' :\n",
    "    tinggi = tinggi/0.393701\n",
    "    print(f\"Tinggi anda adalah {tinggi} cm\")"
   ]
  },
  {
   "cell_type": "code",
   "execution_count": 80,
   "id": "f623370b",
   "metadata": {},
   "outputs": [
    {
     "name": "stdout",
     "output_type": "stream",
     "text": [
      "Berapa tinggi anda? 72.5\n",
      "Tingginya adalah inci atau cm?inci\n",
      "Tinggi anda adalah 184.1499005590537 cm\n"
     ]
    }
   ],
   "source": [
    "tinggi = float (input(\"Berapa tinggi anda? \"))\n",
    "cm_atau_inci = input(\"Tingginya adalah inci atau cm?\")\n",
    "\n",
    "if cm_atau_inci.upper() == 'CM' :\n",
    "    tinggi = tinggi*0.393701\n",
    "    print('Tinggi anda adalah ' + str(tinggi) + \" Inci\")\n",
    "elif cm_atau_inci.upper() == 'INCI' :\n",
    "    tinggi = tinggi/0.393701\n",
    "    print(f\"Tinggi anda adalah {tinggi} cm\")"
   ]
  },
  {
   "cell_type": "code",
   "execution_count": 86,
   "id": "baf127c5",
   "metadata": {},
   "outputs": [
    {
     "name": "stdout",
     "output_type": "stream",
     "text": [
      "Sekarang adalah jam? 5\n",
      "Zona waktu anda adalah?wita\n",
      "Sekarang adalah jam 5 di Bali\n"
     ]
    }
   ],
   "source": [
    "jam = int (input(\"Sekarang adalah jam? \"))\n",
    "zona_waktu = input (\"Zona waktu anda adalah?\")\n",
    "                   \n",
    "if zona_waktu.upper() == 'WIB' :\n",
    "    jam = jam + 1\n",
    "    print('Sekarang adalah jam ' + str(jam) + \" di Bali\")\n",
    "elif zona_waktu.upper() == 'WITA' :\n",
    "    jam = jam\n",
    "    print('Sekarang adalah jam ' + str(jam) + \" di Bali\")\n",
    "elif zona_waktu.upper() == 'WIT' :\n",
    "    jam = jam - 1\n",
    "    print('Sekarang adalah jam ' + str(jam) + \" di Bali\")"
   ]
  },
  {
   "cell_type": "code",
   "execution_count": 87,
   "id": "bca01e55",
   "metadata": {},
   "outputs": [
    {
     "name": "stdout",
     "output_type": "stream",
     "text": [
      "Sekarang adalah jam? 11\n",
      "Zona waktu anda adalah?wib\n",
      "Sekarang adalah jam 12 di Bali\n"
     ]
    }
   ],
   "source": [
    "jam = int (input(\"Sekarang adalah jam? \"))\n",
    "zona_waktu = input (\"Zona waktu anda adalah?\")\n",
    "                   \n",
    "if zona_waktu.upper() == 'WIB' :\n",
    "    jam = jam + 1\n",
    "    print('Sekarang adalah jam ' + str(jam) + \" di Bali\")\n",
    "elif zona_waktu.upper() == 'WITA' :\n",
    "    jam = jam\n",
    "    print('Sekarang adalah jam ' + str(jam) + \" di Bali\")\n",
    "elif zona_waktu.upper() == 'WIT' :\n",
    "    jam = jam - 1\n",
    "    print('Sekarang adalah jam ' + str(jam) + \" di Bali\")"
   ]
  },
  {
   "cell_type": "code",
   "execution_count": 88,
   "id": "73dc8b0c",
   "metadata": {},
   "outputs": [
    {
     "name": "stdout",
     "output_type": "stream",
     "text": [
      "Sekarang adalah jam? 9\n",
      "Zona waktu anda adalah?wit\n",
      "Sekarang adalah jam 8 di Bali\n"
     ]
    }
   ],
   "source": [
    "jam = int (input(\"Sekarang adalah jam? \"))\n",
    "zona_waktu = input (\"Zona waktu anda adalah?\")\n",
    "                   \n",
    "if zona_waktu.upper() == 'WIB' :\n",
    "    jam = jam + 1\n",
    "    print('Sekarang adalah jam ' + str(jam) + \" di Bali\")\n",
    "elif zona_waktu.upper() == 'WITA' :\n",
    "    jam = jam\n",
    "    print('Sekarang adalah jam ' + str(jam) + \" di Bali\")\n",
    "elif zona_waktu.upper() == 'WIT' :\n",
    "    jam = jam - 1\n",
    "    print('Sekarang adalah jam ' + str(jam) + \" di Bali\")\n"
   ]
  }
 ],
 "metadata": {
  "kernelspec": {
   "display_name": "Python 3 (ipykernel)",
   "language": "python",
   "name": "python3"
  },
  "language_info": {
   "codemirror_mode": {
    "name": "ipython",
    "version": 3
   },
   "file_extension": ".py",
   "mimetype": "text/x-python",
   "name": "python",
   "nbconvert_exporter": "python",
   "pygments_lexer": "ipython3",
   "version": "3.9.13"
  }
 },
 "nbformat": 4,
 "nbformat_minor": 5
}
